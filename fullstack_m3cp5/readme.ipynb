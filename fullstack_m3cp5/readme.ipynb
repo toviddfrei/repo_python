{
 "cells": [
  {
   "cell_type": "markdown",
   "id": "8c823ac3-1f4c-4661-a42f-dff32a64f8c7",
   "metadata": {},
   "source": [
    "# Full Stack Módulo 3 - CheckPoint 5"
   ]
  },
  {
   "cell_type": "markdown",
   "id": "86117a44-4520-4415-9028-7447da0b047b",
   "metadata": {},
   "source": [
    "#### [¿Qué es un condicional?](que-es-un-condicional.ipynb)"
   ]
  },
  {
   "cell_type": "markdown",
   "id": "8cbe733e-7069-47e6-bfd8-ca55d63d09d7",
   "metadata": {},
   "source": [
    "#### [¿Cuáles son los diferentes tipos de bucles en Python? ¿Por qué son útiles?](cuales-son-los-diferentes-tipos-de-bucles-en-Python-Por-que-son-utiles.ipynb)\n"
   ]
  },
  {
   "cell_type": "markdown",
   "id": "adea3260-25a6-45bf-a417-3da4720bf570",
   "metadata": {},
   "source": [
    "#### [¿Qué es una lista por comprensión en Python?](que_es_una_lista_por_comprension_en_python.ipynb)"
   ]
  },
  {
   "cell_type": "markdown",
   "id": "205cb6d8-e636-4c73-b31b-4ca3f525d3c9",
   "metadata": {},
   "source": [
    "#### [¿Qué es un argumento en Python?](que_es_un_argumento_en_python.ipynb)"
   ]
  },
  {
   "cell_type": "markdown",
   "id": "318071bf-2d0e-473e-a767-4e86590243b8",
   "metadata": {},
   "source": [
    "#### [¿Qué es una función Lambda en Python?](que_es_una_funcion_lambda_en_python.ipynb)"
   ]
  },
  {
   "cell_type": "markdown",
   "id": "e60a9623-4272-46cf-94dd-eaba01f4e41e",
   "metadata": {},
   "source": [
    "#### [¿Qué es un paquete pip?](que_es_un_paquete_pip.ipynb)"
   ]
  }
 ],
 "metadata": {
  "kernelspec": {
   "display_name": "Python 3 (ipykernel)",
   "language": "python",
   "name": "python3"
  },
  "language_info": {
   "codemirror_mode": {
    "name": "ipython",
    "version": 3
   },
   "file_extension": ".py",
   "mimetype": "text/x-python",
   "name": "python",
   "nbconvert_exporter": "python",
   "pygments_lexer": "ipython3",
   "version": "3.11.5"
  },
  "widgets": {
   "application/vnd.jupyter.widget-state+json": {
    "state": {},
    "version_major": 2,
    "version_minor": 0
   }
  }
 },
 "nbformat": 4,
 "nbformat_minor": 5
}
