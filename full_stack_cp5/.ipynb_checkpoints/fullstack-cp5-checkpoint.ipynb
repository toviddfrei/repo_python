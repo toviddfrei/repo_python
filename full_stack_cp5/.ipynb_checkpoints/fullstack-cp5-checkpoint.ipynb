{
 "cells": [
  {
   "cell_type": "markdown",
   "id": "8c823ac3-1f4c-4661-a42f-dff32a64f8c7",
   "metadata": {},
   "source": [
    "# Examén CheckPoint 5 - Módulo 3"
   ]
  },
  {
   "cell_type": "markdown",
   "id": "86117a44-4520-4415-9028-7447da0b047b",
   "metadata": {},
   "source": [
    "## ¿Qué es un condicional?\n",
    "\n",
    "<http://localhost:8888/notebooks/full_stack_cp5/que-es-un-condicional.ipynb>\n",
    "\n",
    "Enviado 24/04/2024"
   ]
  },
  {
   "cell_type": "markdown",
   "id": "8cbe733e-7069-47e6-bfd8-ca55d63d09d7",
   "metadata": {},
   "source": [
    "#### [¿Cuáles son los diferentes tipos de bucles en Python? ¿Por qué son útiles?](<http://localhost:8888/notebooks/full_stack_cp5/cuales-son-los-diferentes-tipos-de-bucles-en-Python-Por-que-son-utiles.ipynb>)\n"
   ]
  },
  {
   "cell_type": "markdown",
   "id": "adea3260-25a6-45bf-a417-3da4720bf570",
   "metadata": {},
   "source": [
    "#### [¿Qué es una lista por comprensión en Python?](http://localhost:8888/notebooks/anaconda3/full_stack_cp5/que_es_una_lista_por_comprension_en_python.ipynb)"
   ]
  },
  {
   "cell_type": "markdown",
   "id": "205cb6d8-e636-4c73-b31b-4ca3f525d3c9",
   "metadata": {},
   "source": [
    "#### [¿Qué es un argumento en Python?](http://localhost:8888/notebooks/anaconda3/full_stack_cp5/que_es_un_argumento_en_python.ipynb)"
   ]
  },
  {
   "cell_type": "markdown",
   "id": "318071bf-2d0e-473e-a767-4e86590243b8",
   "metadata": {},
   "source": [
    "#### [¿Qué es una función Lambda en Python?](http://localhost:8888/notebooks/anaconda3/full_stack_cp5/que_es_una_funcion_lambda_en_python.ipynb)"
   ]
  },
  {
   "cell_type": "markdown",
   "id": "e60a9623-4272-46cf-94dd-eaba01f4e41e",
   "metadata": {},
   "source": [
    "#### [¿Qué es un paquete pip?](http://localhost:8888/notebooks/anaconda3/full_stack_cp5/que_es_un_paquete_pip.ipynb)"
   ]
  },
  {
   "cell_type": "markdown",
   "id": "713ba929-db7e-40f8-9c89-5de0830fec96",
   "metadata": {},
   "source": [
    "## Adicional a esta asignación de crear una documentación, necesito que realices los siguientes ejercicios prácticos, recuerda subirlos a Git-Hub o Replit para revisarlos"
   ]
  },
  {
   "cell_type": "markdown",
   "id": "11e744e7-9948-4e20-a45d-def8d533276c",
   "metadata": {},
   "source": [
    "### Cree un bucle For de Python.\n",
    "<http://localhost:8888/lab/tree/full_stack_cp5/cree_blue_for_python.py>"
   ]
  },
  {
   "cell_type": "markdown",
   "id": "c3ae9c96-c599-4549-9869-5d5957551c2c",
   "metadata": {},
   "source": [
    "## Cree una función de Python llamada suma que tome 3 argumentos y devuelva la suma de los 3.\n",
    "\n",
    "http://localhost:8888/edit/anaconda3/full_stack_cp5/fullstack_cp5_sum_funciton.py"
   ]
  },
  {
   "cell_type": "markdown",
   "id": "70aad772-473e-4e40-9385-71e6b2da4872",
   "metadata": {},
   "source": [
    "## Cree una función lambda con la misma funcionalidad que la función de suma que acaba de crear.\n",
    "\n",
    "http://localhost:8888/edit/anaconda3/full_stack_cp5/fullstack_cp5_sum_function_lambda.py"
   ]
  },
  {
   "cell_type": "markdown",
   "id": "2e5bb4c2-61f3-48c7-9a2e-f464c5c574a7",
   "metadata": {},
   "source": [
    "## Utilizando la siguiente lista y variable, determine si el valor de la variable coincide o no con un valor de la lista. *Sugerencia, si es necesario, utilice un bucle for in y el operador in.\n",
    "\n",
    "- nombre = 'Enrique'\n",
    "- lista_nombre = 'Jessica', 'Paul', 'George', 'Henry', 'Adán'\n",
    "\n",
    "Esta es toda la asignación, ¡mucha suerte!"
   ]
  },
  {
   "cell_type": "code",
   "execution_count": null,
   "id": "ac895084-66a7-474c-9e50-7de07ee234cf",
   "metadata": {},
   "outputs": [],
   "source": []
  }
 ],
 "metadata": {
  "kernelspec": {
   "display_name": "Python 3 (ipykernel)",
   "language": "python",
   "name": "python3"
  },
  "language_info": {
   "codemirror_mode": {
    "name": "ipython",
    "version": 3
   },
   "file_extension": ".py",
   "mimetype": "text/x-python",
   "name": "python",
   "nbconvert_exporter": "python",
   "pygments_lexer": "ipython3",
   "version": "3.11.5"
  },
  "widgets": {
   "application/vnd.jupyter.widget-state+json": {
    "state": {},
    "version_major": 2,
    "version_minor": 0
   }
  }
 },
 "nbformat": 4,
 "nbformat_minor": 5
}
