{
 "cells": [
  {
   "cell_type": "markdown",
   "id": "734eb80c-ba1f-4f6b-8690-ad2590e1722e",
   "metadata": {},
   "source": [
    "# ¿Qué es un condicional?"
   ]
  },
  {
   "cell_type": "markdown",
   "id": "efaed7ad-fc0d-49ef-91c4-48304d6d79fd",
   "metadata": {},
   "source": [
    "En programación podríamos hablar de sentencias condicionales, las sentencias condicionales están en el corazón  de la programación, es la expresión que otorga poder de decisión a una aplicación, por lo tanto, le da dinamismo a nuestro script según el resultado de la evaluación con operadores lógicos.\n",
    "\n",
    "Si analizamos el párrafo anterior, podemos extraer que una sentencia condicional, necesita una condición, una evaluación y un resultado. Con esto claro podemos formalizar multitud de expresiones condicionales, por ejemplo:\n",
    "\n",
    "Condición = sí hace más de 25 grados | \n",
    "Evaluación = Compararemos el valor actual de la temperatura con la condición dada |\n",
    "Resultado = ponemos camiseta\n",
    "\n",
    "Según las condiciones meteorológicas actuaremos de una forma u otra. Esta es la base del condicional, especular sobre lo que pueda pasar y tener un plan preparado, en este caso tan simple como qué ropa ponerse, podríamos expresarlo como:"
   ]
  },
  {
   "cell_type": "code",
   "execution_count": 7,
   "id": "1583a1eb-4371-48dd-83f7-b9863fdf8f0e",
   "metadata": {},
   "outputs": [
    {
     "data": {
      "text/plain": [
       "\"If it's more than 25 degrees, we wear a t-shirt\""
      ]
     },
     "execution_count": 7,
     "metadata": {},
     "output_type": "execute_result"
    }
   ],
   "source": [
    "# Si hace más de 25 grados, ponemos camiseta\n",
    "\"If it's more than 25 degrees, we wear a t-shirt\""
   ]
  },
  {
   "cell_type": "code",
   "execution_count": 6,
   "id": "3af88668-d955-4434-bd40-482c2ac834f6",
   "metadata": {},
   "outputs": [
    {
     "data": {
      "text/plain": [
       "\"If it's less than 25 degrees, we wear a sweatshirt\""
      ]
     },
     "execution_count": 6,
     "metadata": {},
     "output_type": "execute_result"
    }
   ],
   "source": [
    "# Si hace menos de 25 grados, ponemos sudadera\n",
    "\"If it's less than 25 degrees, we wear a sweatshirt\""
   ]
  },
  {
   "cell_type": "markdown",
   "id": "d571498d-177c-4996-86f7-60be2001ce74",
   "metadata": {},
   "source": [
    "Esta sería una expresión muy básica, pero muy visual, las condiciones mueven el mundo, posiblemente, no lo sé, hasta hay no puedo especular, pero si me permito especular en mis condones, al firmar un contrato hay condiciones, al quedar con un amigo hay condiciones, al planear un viaje hay condiciones, en todo momento, tenemos condiciones que cumplir o hacer cumplir para darle dinamismo y continuidad a nuestras acciones, siguiendo el ejemplo anterior:"
   ]
  },
  {
   "cell_type": "code",
   "execution_count": 3,
   "id": "cb17bb6f-d395-4b94-9e4f-41b64f506822",
   "metadata": {},
   "outputs": [
    {
     "data": {
      "text/plain": [
       "\"If it's over 25 degrees, we put on a t-shirt and go to the ice cream parlor.\""
      ]
     },
     "execution_count": 3,
     "metadata": {},
     "output_type": "execute_result"
    }
   ],
   "source": [
    "# Si hace mas de 25 grados, ponemos camiseta y vamos a la heladería.\n",
    "\"If it's over 25 degrees, we put on a t-shirt and go to the ice cream parlor.\""
   ]
  },
  {
   "cell_type": "markdown",
   "id": "9184a963-2733-41a1-853f-49e235a49b9f",
   "metadata": {},
   "source": [
    "En este momento mi condicional meteorológico ha crecido con otra acción ir a la heladería, esto nos dice que un condicional puede desencadenar varias acciones.\n",
    "\n",
    "En este momento le estamos dando dinamismo a nuestro script si hablamos de programación o a nuestro día de fiesta(ir a la heladería), si hablamos de vida cotidiana.\n",
    "\n",
    "Estoy aquí con la condición de hablar de lo primero, hablamos de programación."
   ]
  },
  {
   "cell_type": "code",
   "execution_count": 4,
   "id": "032bde47-2db0-4fcf-bea6-4887094712b5",
   "metadata": {},
   "outputs": [
    {
     "data": {
      "text/plain": [
       "\"If I don't_talk_about_programming it is not correct (False)\""
      ]
     },
     "execution_count": 4,
     "metadata": {},
     "output_type": "execute_result"
    }
   ],
   "source": [
    "# Si hablo_de_programacion es correcto \n",
    "\"If I speak_about_programming it is correct (True)\"\n",
    "# si no_hablo_de_programacion no es correcto\n",
    "\"If I don't_talk_about_programming it is not correct (False)\""
   ]
  },
  {
   "cell_type": "markdown",
   "id": "e4f4c655-5dd2-4b7b-8369-6fb0d440a137",
   "metadata": {},
   "source": [
    "Un condicional es una expresión que retorna o devuelve un resultado booleano, los valores booleanos son Verdadero(True) o Falso(False).\n",
    "\n",
    "En este caso lo seccionaría del siguiente modo, vuelvo a condición, evaluación y resultado.\n",
    "\n",
    "Condición que expresamos - hablar de programación\n",
    "Evaluamos si se cumple la expresión - En este caso estoy hablando de programación\n",
    "Resultado - Verdadero (SI estoy hablando de programación)\n",
    "\n",
    "Expresamos una condición que puede ser verdadera o falsa, esta respuesta determina el comienzo de una serie de acciones según el resultado obtenido."
   ]
  },
  {
   "cell_type": "markdown",
   "id": "7540d5ce-acba-4487-a093-a6c858884bce",
   "metadata": {},
   "source": [
    "## Sintaxis"
   ]
  },
  {
   "cell_type": "markdown",
   "id": "cd628fd7-a9cc-4572-9a56-8353ae3aaae0",
   "metadata": {},
   "source": [
    "En cuanto a sitanxis, hay que comenzar utilizando la palabra if.\n",
    "\n",
    "Tenemos que tener en cuenta que un condicional evalua, compara la condicion establecida con el elemento dado.\n",
    "\n",
    "La expresión sería \"si condición\", en este momento le pasamos como queremos evaluar la condición si es igual, mayor, menor en el caso de que hablaramos de numeros, si es igual en el caso de que hablemos de cadenas.\n",
    "\n",
    "Con esto claro podemos escribir algo así:\n",
    "\n",
    "if 10 == 10:\n",
    "\n",
    "Si diez es igual a 10 es verdadero\n",
    "\n",
    "Condición = 10\n",
    "Evaluciación == si son iguales\n",
    "Resultado = Verdadero"
   ]
  },
  {
   "cell_type": "code",
   "execution_count": 12,
   "id": "9ff4b708-63c1-4750-aeb1-7de654096144",
   "metadata": {},
   "outputs": [
    {
     "name": "stdout",
     "output_type": "stream",
     "text": [
      "True\n"
     ]
    }
   ],
   "source": [
    "# Expresamos el ejemplo anterior\n",
    "\n",
    "if 10 == 10:\n",
    "    print(True)"
   ]
  },
  {
   "cell_type": "markdown",
   "id": "45ad9217-016d-43f9-b73a-1b431bc1dfd6",
   "metadata": {},
   "source": [
    "Solo con esto ya tenemos nuestra condicional expresada, si diez es igual a diez imprime True. Pero como hemos dicho anteriormente, tenemos que seguir especulando con nuevas condiciones que necesitemos o que pudieran darse y tener las acciones preparadas. Por lo tanto, podemos completar nuestras expresiones condicionales, con otras palabras como elif, else. Veamos cada caso."
   ]
  },
  {
   "cell_type": "markdown",
   "id": "ef1d64c0-d2a7-4a01-97ee-7838c7b134b4",
   "metadata": {},
   "source": [
    "**elif**, su significado lo explica si no, sí, el resultado de if ha sido falso, se evaluará la condición de elif y las siguientes que queramos establecer. **SI NOS FIJAMOS** cada línea de condicional if o elif la cerramos con  :    , es obligatorio, ya que las acciones que queramos ejecutar deben estar tabuladas formado un bloque de código."
   ]
  },
  {
   "cell_type": "markdown",
   "id": "237c2099-74a0-48fc-9ca9-a7b70070d01f",
   "metadata": {},
   "source": [
    "Pongamos un ejemplo, consideremos una de las expresiones condicionales anteriores, según la meteorología que tengamos actuaremos, veníamos a comentar antes. Utilicémosla para mostrar también que no solo podemos pasar números, pasemos variables a nuestra condicional."
   ]
  },
  {
   "cell_type": "code",
   "execution_count": null,
   "id": "e823e488-1e35-4391-8368-ed4d510b427d",
   "metadata": {},
   "outputs": [],
   "source": [
    "#Creamos la variable de temperatura\n",
    "temp = \"Calor\"\n",
    "#Creamos una segunda variable de grados\n",
    "grados = 25\n",
    "\n",
    "if temp == \"Frio\":\n",
    "    print(\"ponemos sudadera\")\n",
    "elif temp == \"Calor\" and grados < 24:\n",
    "    print(\"ponemos camiseta\")\n",
    "elif grados == 25:\n",
    "    print(\"ponemos camiseta\")\n",
    "    print(\"vamos heladeria\")"
   ]
  },
  {
   "cell_type": "markdown",
   "id": "a4dd0837-a249-476b-8638-aff099717587",
   "metadata": {},
   "source": [
    "Como apreciamos hemos utilizado elif, "
   ]
  },
  {
   "cell_type": "markdown",
   "id": "6ae0d6a8-a283-4b42-b567-f09458e61ec4",
   "metadata": {},
   "source": [
    "Ahora debemos utilizar **else**, esta sentencia ofrece la salida final, si no es verdadera ninguna de las condiciones que hemos expresado antes, queda **else**, tal cual se traduce **sino**, las acciones que queramos ejecutar."
   ]
  },
  {
   "cell_type": "code",
   "execution_count": 22,
   "id": "b6f6a477-b6fe-4311-b397-4bd2d8bbae1f",
   "metadata": {},
   "outputs": [
    {
     "name": "stdout",
     "output_type": "stream",
     "text": [
      "seguimos pensando\n"
     ]
    }
   ],
   "source": [
    "#Creamos la variable de temperatura\n",
    "temp = \"Calor\"\n",
    "#Creamos una segunda variable de grados\n",
    "grados = 26\n",
    "\n",
    "if temp == \"Frio\":\n",
    "    print(\"ponemos sudadera\")\n",
    "elif temp == \"Calor\" and grados < 24:\n",
    "    print(\"ponemos camiseta\")\n",
    "elif grados == 25:\n",
    "    print(\"ponemos camiseta\")\n",
    "    print(\"vamos heladeria\")\n",
    "else:\n",
    "    print(\"seguimos pensando\")"
   ]
  },
  {
   "cell_type": "markdown",
   "id": "01af5124-a18d-4aa1-b108-7aea8604c3f0",
   "metadata": {},
   "source": [
    "En estos scripts hemos utilizado sentencias if, elif, else, también variables y operadores lógicos:\n",
    "\n",
    "- if, elif, else,\n",
    "    sentencias condicionales, son palabras claves que crean la estructura para controlar el flujo de una aplicación, según el resultado del condicional se desencadenan diversas acciones dirigiendo el flujo de la aplicación.\n",
    "\n",
    "- variables\n",
    "    espacios de memoria que utilizamos para guardar valores, ya sean números, cadenas, listas, diccionarios, tuplas, en este caso lo utilizamos como termómetro de nuestra estructura de condiciones.\n",
    "\n",
    "- operadores lógicos\n",
    "    los operadores lógicos nos permite expresar evaluaciones de muy distintas formas de nuestras condiciones, podemos comparar si son iguales un elemento y otro, también podemos comparar si un número es mayor que otro, si una cadena es igual a otra, hemos utilizado distintos operadores lógicos ==, <, >, y and, para expresar una doble condición que ha de evaluar en verdaderas las dos, este es un tema más extenso, ya que también podemos utilizar el operador or con lo cual la condición solo tiene que ser verdadera en alguna de las dos.\n",
    "\n",
    "Utilizando estas herramientas de programación podemos configurar multitud de condiciones, que puedan ser evaluadas, siempre buscando el resultado verdadero, pero teniendo previstos los resultados falsos, no quiero ser nostálgico de la primera parte del documento, pero si esto no es la vida misma, se aproxima bastante.\n",
    "\n",
    "y dos variables que hemos utilizado para expresar distintas condiciones, y  Si nos paramos a pensar un poquito, podemos configurar un sinfín de expresiones condicionales, lo cual establece un sinfín de acciones a tener previstas o planificadas."
   ]
  }
 ],
 "metadata": {
  "kernelspec": {
   "display_name": "Python 3 (ipykernel)",
   "language": "python",
   "name": "python3"
  },
  "language_info": {
   "codemirror_mode": {
    "name": "ipython",
    "version": 3
   },
   "file_extension": ".py",
   "mimetype": "text/x-python",
   "name": "python",
   "nbconvert_exporter": "python",
   "pygments_lexer": "ipython3",
   "version": "3.11.5"
  },
  "widgets": {
   "application/vnd.jupyter.widget-state+json": {
    "state": {},
    "version_major": 2,
    "version_minor": 0
   }
  }
 },
 "nbformat": 4,
 "nbformat_minor": 5
}
