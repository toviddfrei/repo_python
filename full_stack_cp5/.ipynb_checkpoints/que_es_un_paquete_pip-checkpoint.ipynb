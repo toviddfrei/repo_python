{
 "cells": [
  {
   "cell_type": "markdown",
   "id": "e7fd5b68-63d4-4d4e-89f4-b664bc67cc14",
   "metadata": {},
   "source": [
    "# ¿Qué es un paquete pip?"
   ]
  },
  {
   "cell_type": "markdown",
   "id": "ae3ab171-b7e7-4d95-b117-e46ceced1899",
   "metadata": {},
   "source": [
    "pip es un sistema de gestión de paquetes utilizado para instalar y administrar paquetes de software escritos en Python. Muchos paquetes pueden ser encontrados en el Python Package Index (PyPI). Python 2.7.9 y posteriores (en la serie Python2), Python 3.4 y posteriores incluyen pip (pip3 para Python3) por defecto.\n",
    "\n",
    "pip es un acrónimo recursivo que se puede interpretar como Pip Instalador de Paquetes o Pip Instalador de Python.1​"
   ]
  },
  {
   "cell_type": "markdown",
   "id": "b79e63ad-6b4b-4d62-afea-5a7542e439c0",
   "metadata": {},
   "source": [
    "Para entender esta definición que encontramos en Wikipedia yo me planteo, ¿cómo funciona python?, se que es un lenguaje de alto nivel, que tiene un intérprete de comandos. Quiere decir, todos los comandos que utilizo, los bucles, las listas, todo lo que escribo es traducido a nivel máquina por ese intérprete, más o menos esa sería la explicación rápida y básica, entonces tenemos un desarrollador, un intérprete y una máquina. Bonita ecuación, el desarrollador escribe un script, el intérprete lo traduce, la máquina lo ejecuta. Es tan sencillo como eso, talvez, me dejo algún paso, meto la pata en alguna denominación, pero el objetivo es visualizar el escenario.\n",
    "\n",
    "Desarrollado + interpreté + computadora\n",
    "\n",
    "El desarrollador escribe el script que el intérprete le traduce a la máquina para ejecutarlo. Vale lo vemos, ¿no?\n",
    "\n",
    "Pues hagamos zoom a lo largo del planeta y extraigamos información importante, lenguaje de programación de alto nivel, de código libre, con una alta tasa de uso a nivel mundial.\n",
    "\n",
    "Seguimos extrayendo, muchos, muchos, muchos, colaboradores, desarrolladores con muchísima experiencia, libre, no sé seguir creo, es una visión descomunal, las líneas y líneas y líneas y líneas de código que han sido escritas ya, y que por supuesto se escribirán, pero si algo desea python es ser prácticos, por lo tanto, si alguien lo ha hecho ya, lo podemos utilizar, podemos colaborar, lo dicho un mundo.\n",
    "\n",
    "En sí python en la versión 3 que estamos utilizando, provee de módulos dentro de si mismo, que proveen de funciones tal como len, print, tras esta básica instalación el lenguaje python acumula y los mantiene otros módulos que nos pueden proveer de nuevas funcionalidades, alguna incluso que teníamos en mente preparar, lo dicho muuuuuuuuuuchas líneas de código ya escritas y probadas en Pypi que es la biblioteca central de dichos módulos, bueno, pues pip, es un instalador que permite a través de varios comandos la instalación, desinstalación de estos módulos y nos permite tener actualizadas las librerías necesarias."
   ]
  },
  {
   "cell_type": "markdown",
   "id": "dd7591fd-f8cd-4dd5-a72c-46cfd32f4333",
   "metadata": {},
   "source": [
    "Un ejemplo ha sido el import re, he importado el módulo re, este módulo es un archivo loquesea.py que tiene unas líneas de código dentro, que nos permite realizar funcionalidades que si no las tuviera este archivo tendríamos que escribirlas nosotros, por lo tanto, nos provee de servicios, búsquedas de un tipo, bucles de otros, operaciones matemáticas complicadas."
   ]
  },
  {
   "cell_type": "markdown",
   "id": "a420e37e-4410-4577-acd7-2192ddfb0d3a",
   "metadata": {},
   "source": [
    "Como hemos dicho, es una aplicación que nos permite gestionar paquetes o módulos, ¿cómo nos lo permite?, a través de la consola o incluso con una GUI, pero trataremos este documento siempre por shell, desde allí, podemos:\n",
    "- comprobar que versión tenemos instalada, si la tenemos.\n",
    "- instalar la aplicación\n",
    "- actualizarla\n",
    "\n",
    "Una vez instalada y actualizada, nos permite administrar, instalar y desinstalar módulos que podamos necesitar, en este sentido python provee de una capa de abstracción para no entorpecer desarrollos distintos, debían 12 por ejemplo ya lo tiene implementado obligatoriamente y te obliga a crear entornos virtuales para dejarte instalar módulos, lo cual secciona mucho el riesgo de choque de versiones y librerías"
   ]
  },
  {
   "cell_type": "markdown",
   "id": "06da3c43-b324-44d0-87f5-d715c7769574",
   "metadata": {},
   "source": [
    "```text\n",
    "pip --version\n",
    "python -m pip install SomePackage\n",
    "python -m pip install --upgrade SomePackage\n",
    "python -m pip uninstall SomePackage\n",
    "```"
   ]
  }
 ],
 "metadata": {
  "kernelspec": {
   "display_name": "Python 3 (ipykernel)",
   "language": "python",
   "name": "python3"
  },
  "language_info": {
   "codemirror_mode": {
    "name": "ipython",
    "version": 3
   },
   "file_extension": ".py",
   "mimetype": "text/x-python",
   "name": "python",
   "nbconvert_exporter": "python",
   "pygments_lexer": "ipython3",
   "version": "3.11.5"
  },
  "widgets": {
   "application/vnd.jupyter.widget-state+json": {
    "state": {},
    "version_major": 2,
    "version_minor": 0
   }
  }
 },
 "nbformat": 4,
 "nbformat_minor": 5
}
