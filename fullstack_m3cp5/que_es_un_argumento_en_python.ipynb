{
 "cells": [
  {
   "cell_type": "markdown",
   "id": "37484f7a-f799-460a-8029-81cb0911bebd",
   "metadata": {},
   "source": [
    "# ¿Qué es un argumento en Python?"
   ]
  },
  {
   "cell_type": "code",
   "execution_count": 2,
   "id": "98682d27-c4c0-40af-9806-13ae153b8b69",
   "metadata": {},
   "outputs": [
    {
     "name": "stdout",
     "output_type": "stream",
     "text": [
      "Esto es un argumento\n"
     ]
    }
   ],
   "source": [
    "def my_arguments(one, two, three, four):\n",
    "    print(one, two, three, four)\n",
    "\n",
    "my_arguments(\"Esto\", \"es\", \"un\", \"argumento\")"
   ]
  },
  {
   "cell_type": "markdown",
   "id": "38cf9295-16dc-4266-8974-4468f3374e68",
   "metadata": {},
   "source": [
    "He expresado una función a la que le paso cuatro argumentos o parámetros para que se ejecute, sin esos argumentos, la función arrojaría un error.\n",
    "\n",
    "Un argumento es una variable que recoge un valor y se lo pasa o canaliza a la función, pongamos un ejemplo, pensemos en dos personas separadas geográficamente y no pueden desplazarse, pero se tienen que comunicar, pensemos en una tercera persona que recogerá un envío en la primera persona y se lo entregará a la segunda, según lo que contenga el envío la segunda persona actuará.\n",
    "\n",
    "No sé si ha quedado claro, pero extraigamos conclusiones, tenemos 2 personas + 1 cartero, yo lo veo así. Los parámetros guardan el valor que entregan al llamar a la función y se lo entregan a la función para que según lo entregado se ejecute. Dos personas, la llamada y la función y un cartero, los argumentos o parámetros.\n",
    "\n",
    "A continuación he copiado y pegado, primeros párrafos de varias publicaciones sobre argumentos, como mera información por extraer más conocimientos.\n",
    "\n",
    "Teniendo claro que tengo carteros disponibles, que uso les puedo sacar:\n",
    "- Nos permiten alterar el comportamiento de la subrutina en tiempo de ejecución, algo complejo, pero muy interesante suena.\n",
    "- Comentamos dinamismo, flujo, los parámetros que le podemos pasar a las funciones nos permiten tener retorno de otros posibles parámetros que provoquen la ejecución de otras funciones, otras rutinas u otras subrutinas, dinamismo, me muevo, fluyó..."
   ]
  },
  {
   "cell_type": "markdown",
   "id": "e81c90b0-e581-4025-83b9-ea6b96950c6f",
   "metadata": {},
   "source": [
    "Pongamos un ejemplo que aparte es un ejercicio que debemos realizar.\n",
    "- Cree una función de Python llamada suma que tome 3 argumentos y devuelva la suma de los 3."
   ]
  },
  {
   "cell_type": "code",
   "execution_count": null,
   "id": "e07eb0bc-31e9-4226-9fc1-d72d69664112",
   "metadata": {},
   "outputs": [],
   "source": [
    "def sum_function(a, b, c):\n",
    "    return a+b+c"
   ]
  },
  {
   "cell_type": "markdown",
   "id": "d8d728d1-fa92-460c-ac25-5baea0174f7b",
   "metadata": {},
   "source": [
    "Con estas 2 líneas hemos creado una función que toma tres parámetros a, b y c y devuelve la suma de los tres, tal como nos solicita el ejercicio. Probémoslo."
   ]
  },
  {
   "cell_type": "code",
   "execution_count": 4,
   "id": "a4b665b3-e23a-4016-ba4f-e1dc11b7fda4",
   "metadata": {},
   "outputs": [
    {
     "data": {
      "text/plain": [
       "6"
      ]
     },
     "execution_count": 4,
     "metadata": {},
     "output_type": "execute_result"
    }
   ],
   "source": [
    "def sum_function(a, b, c):\n",
    "    return a+b+c\n",
    "    \n",
    "sum_function(1,2,3)"
   ]
  },
  {
   "cell_type": "markdown",
   "id": "fa807ce2-7845-49f6-9cc5-e3b60451ec0d",
   "metadata": {},
   "source": [
    "Lo dicho hemos recogido de la llamada los envíos 1,2 y 3, el cartero lo ha entregado a sum_function y se ha ejecutado lo previsto."
   ]
  },
  {
   "cell_type": "markdown",
   "id": "171c4323-5b42-4ba2-bc19-9d6172048202",
   "metadata": {},
   "source": [
    "## Referencias:"
   ]
  },
  {
   "cell_type": "markdown",
   "id": "0e9cd20f-09d7-4568-a01f-20e1850e5a9f",
   "metadata": {},
   "source": [
    "Los argumentos en funciones se refieren a los valores que se pasan a una función para que realice una tarea específica. Como desarrolladores, es común encontrarnos con situaciones en las que necesitamos que una función tome distintos valores para realizar una tarea en particular."
   ]
  },
  {
   "cell_type": "markdown",
   "id": "f634ea5b-123b-4a76-8db4-fc098b7f2439",
   "metadata": {},
   "source": [
    "¿Qué es un argumento en programación?\n",
    "Argumento (informática) - Wikipedia, la enciclopedia libre\n",
    "En ciencias de la computación, un parámetro es una variable utilizada para recibir valores de entrada en una rutina, subrutina o método. Dichos valores, que serán enviados desde la rutina invocante, son llamados argumentos."
   ]
  },
  {
   "cell_type": "markdown",
   "id": "47e47e97-b22a-4576-b83f-79cca444d917",
   "metadata": {},
   "source": [
    "En ciencias de la computación, un parámetro es una variable utilizada para recibir valores de entrada en una rutina, subrutina o método. Dichos valores, que serán enviados desde la rutina invocante, son llamados argumentos. La subrutina usa los valores asignados a sus parámetros para alterar su comportamiento en tiempo de ejecución. La mayor parte de los lenguajes de programación pueden definir subrutinas que aceptan cero o más argumentos."
   ]
  },
  {
   "cell_type": "markdown",
   "id": "278cf1a5-bb16-43d0-b2f4-9236b4f9c77c",
   "metadata": {},
   "source": [
    "Argumentos y devolución de valores\n",
    "Las funciones en Python admiten argumentos en su llamada y permiten devolver valores. Estas posibilidades permiten crear funciones más útiles y fácilmente reutilizables.\n",
    "\n",
    "En este apartado se muestran estos conceptos mediante cuatro ejemplos. En ellos, no se pretende encontrar la mejor solución al problema planteado, sino simplemente introducir los conceptos de argumentos y devolución de valores.\n",
    "\n",
    "Aunque las funciones en Python pueden acceder a cualquier variable del programa declarándolas como variables globales o no locales, se necesita saber el nombre de las variables, como muestra el ejemplo siguiente:"
   ]
  },
  {
   "cell_type": "markdown",
   "id": "1ac57f94-f7cd-4c19-8a2e-0189c23afddc",
   "metadata": {},
   "source": []
  }
 ],
 "metadata": {
  "kernelspec": {
   "display_name": "Python 3 (ipykernel)",
   "language": "python",
   "name": "python3"
  },
  "language_info": {
   "codemirror_mode": {
    "name": "ipython",
    "version": 3
   },
   "file_extension": ".py",
   "mimetype": "text/x-python",
   "name": "python",
   "nbconvert_exporter": "python",
   "pygments_lexer": "ipython3",
   "version": "3.11.5"
  },
  "widgets": {
   "application/vnd.jupyter.widget-state+json": {
    "state": {},
    "version_major": 2,
    "version_minor": 0
   }
  }
 },
 "nbformat": 4,
 "nbformat_minor": 5
}
