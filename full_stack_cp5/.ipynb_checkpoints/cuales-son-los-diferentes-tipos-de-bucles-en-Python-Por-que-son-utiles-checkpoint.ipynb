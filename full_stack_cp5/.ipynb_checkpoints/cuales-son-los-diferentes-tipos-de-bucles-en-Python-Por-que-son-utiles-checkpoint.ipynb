{
 "cells": [
  {
   "cell_type": "markdown",
   "id": "6c5bc6cf-21c3-4bb1-b886-4603149c51f8",
   "metadata": {},
   "source": [
    "# ¿Cuáles son los diferentes tipos de bucles en Python? ¿Por qué son útiles?"
   ]
  },
  {
   "cell_type": "markdown",
   "id": "7c851e9e-8cbe-4b60-90a1-66bd896efb2d",
   "metadata": {},
   "source": [
    "Empecemos por tener claro lo que es un bucle o loop, lo vamos a utilizar no solo en Python, sino en cualquier lenguaje de programación.\n",
    "\n",
    "En sí, las máquinas aparecieron para repetir tareas, y eso es lo que hace un bucle o loop constantemente, repetir lo que le expresemos que debe repetir. \n",
    "\n",
    "Son herramientas de flujo de control, tanto while como for, son los loop de que disponemos, también existen otras palabras claves y función que entran en este tipo de herramientas control de flujo, palabras clave como: continue, break, range (que tiene cualidades muy apreciables cuando trabajamos con series de números), pero quisiera centrarme en los loop while y for, y dentro de ellos en for por ser el más común que utilizaremos y que nos podremos encontrar."
   ]
  },
  {
   "cell_type": "markdown",
   "id": "41d7fa53-1cf8-4b93-b046-3e2706bb9d2e",
   "metadata": {},
   "source": [
    "Vaya por delante que el uso de recursos de un loop o blucle es de las funciones que más recursos consumen de una computadora, por lo tanto, no quiere decir que estén prohibidos, pero sí que es aconsejable valorar como y cuando crearlos. Y una vez decidido crearlos, considerar las tareas que realmente son necesarias hacer repetitivamente."
   ]
  },
  {
   "cell_type": "markdown",
   "id": "a1d12d1d-569f-44e0-a830-3f24a6091f86",
   "metadata": {},
   "source": [
    "Cada uno de los dos tiene sus características el bucle for que tiene muy determinada su finalización o el bucle while que no tiene fin determinado, estamos obligados a pasarle de alguna manera donde detenerse. La gran mayoría de veces utilizaremos bucles for, aunque while tiene sus momentos."
   ]
  },
  {
   "cell_type": "markdown",
   "id": "131bb50d-b049-44f7-ba4b-2ae16ee8da2c",
   "metadata": {},
   "source": [
    "Creo que el concepto lo tenemos establecido, repetir, repetir, repetir. Vale¡¡, un dato más, a cada repetición se la denomina iteración y eso nos da pie a comenzar con la sintaxis, tal como hemos comentado, nos centraremos en bucle for."
   ]
  },
  {
   "cell_type": "code",
   "execution_count": 1,
   "id": "7eb4bb64-6c9c-43ff-ad1a-006bde7225ac",
   "metadata": {},
   "outputs": [
    {
     "name": "stdout",
     "output_type": "stream",
     "text": [
      "25\n",
      "25\n",
      "25\n"
     ]
    }
   ],
   "source": [
    "\"\"\"\n",
    "Ejemplo inicial bucle for, iterar o repetir una constante.\n",
    "Tomamos como constante la variable temp\n",
    "Trabajamos con variables y función print, no necesitamos\n",
    "cargar ningún módulo.\n",
    "Utilizamos la función range()\n",
    "\"\"\"\n",
    "\n",
    "temp = 25\n",
    "\n",
    "for i in range(3):\n",
    "    print(f'{temp}')"
   ]
  },
  {
   "cell_type": "markdown",
   "id": "cd684167-0a43-442a-ada2-ebeb735e91f0",
   "metadata": {},
   "source": [
    "Hemos utilizado el loop for, para que utilizando la función range, iterar 3 veces sobre la variable temp y con la función print hemos dirigido la salida a la pantalla.\n",
    "\n",
    "Si extraemos conclusiones sobre la sintaxis, nos fijamos que la linea de la sentencia for la cerramos con : lo cual nos obliga a dar espacio al bloque de codigo a continuación, en este momento, todas las expresiones, calculos, consultas a ficheros, peticiones a bases de datos, consultas a la red, son repetidas, pero si nos seguimos fijando somos nosotros quien le decimos cuando detener el flujo, en este caso con la función range hasta que complete 3 iteraciones."
   ]
  },
  {
   "cell_type": "markdown",
   "id": "85a97153-e2f4-4434-814e-7bc989706a59",
   "metadata": {},
   "source": [
    "Otra cosa bien distinta es cuando nosotros no tenemos el control de la cantidad de iteraciones que se pueden realizar. Supongamos una lista de boda, siempre son complicadas, no?, los de una parte, los de otra, los del medio, los de hoy si, mañana no...\n",
    "\n",
    "El escenario es que desconocemos que iteraciones vamos a tener, por lo tanto no controlamos el final de nuestro bucle, \"ALARMA\", un bucle sin final es un bucle infinito, volvemos al comienzo, las máquinas no paran de repetir lo que le expresemos, y si seguimos leyendo, las máquinas tambien tienen limites sobre todo de memoria, cada iteracion mas datos acumulado pueden tener consecuencias fatales, incluso bloqueo del computador.\n",
    "\n",
    "Teniendo esto claro, hay que tenerle respeto pero no miedo, sabiendo que siempre hay que probar y siempre hay que trabajar en entornos de prueba nunca de producción, nosotros somos quien le decimos cuando parar, como parar, y por supuesto por donde ir."
   ]
  },
  {
   "cell_type": "code",
   "execution_count": 4,
   "id": "937008e8-5680-48f7-b3e5-5c7d33c9c005",
   "metadata": {},
   "outputs": [
    {
     "name": "stdout",
     "output_type": "stream",
     "text": [
      "Lo encontre : dani\n"
     ]
    }
   ],
   "source": [
    "\"\"\"\n",
    "Ejemplo desconocemos el limite de iteraciones.\n",
    "Queremos encontrar un valor en una lista,\n",
    "una vez lo encontremos imprimir encontrado y el valor\n",
    "Aqui viene lo complicado esa lista es la lista \n",
    "unificada de los invitados. Dia a dia se incrementa\n",
    "o decrementa.\n",
    "Utilizaremos lo aprendido en el tema anterior condicionales\n",
    "estableceremos la condicion de que el valor que queremos\n",
    "encontrar es igual al valor pasado\n",
    "\"\"\"\n",
    "lista_invitados = [1,2,3,4,5,6,7,8,9,10,11,\"dani\",13,14,15,16,17,18,19,20]\n",
    "\n",
    "guest = \"dani\"\n",
    "\n",
    "for invitado in lista_invitados:\n",
    "    if guest == invitado:\n",
    "        print(f'Lo encontre : {invitado}')\n",
    "        break\n",
    "        "
   ]
  },
  {
   "cell_type": "markdown",
   "id": "5dbdb305-a43d-4f03-a0f1-d09abf6dbf65",
   "metadata": {},
   "source": [
    "Vamos con más sintaxis como apreciamos siempre comenzamos con la palabra reservada for, a continuación la variable iteradora, esta variable guarda el resultado extraído en cada iteración, podemos denominarla como queramos, pero como mejor práctica es utilizar el singular de la estructura que va a iterar.\n",
    "\n",
    "Seguimos con la palabra reservada in, es literal en y a continuación le pasamos los elementos que debemos iterar, ya sea una lista, una cadena, un diccionario.\n",
    "\n",
    "Aparecen nuestras condicionales, estoy buscando un invitado en concreto, la condición es que sé cómo se llama. Pues yo no me repito como un bucle, pasamos a otra novedad, la palabra clave break. ¿Que hace ahí?, break rompe el loop, lo para y se sale a la siguiente línea fuera de él, se acabó el consumo de recursos, hemos encontrado lo que buscábamos. Estamos siendo muy drásticos, bueno, con el bucle for aún nos podríamos dar ese lujo de no utilizar o break o continue para seguir controlando nuestro flujo, una de las características que tiene for es que una vez consumida toda la lista de bodas, no invitara a más, se parara con el último elemento pasado."
   ]
  },
  {
   "cell_type": "markdown",
   "id": "25eb5f2c-2cc2-467e-8897-352b3cfb2b92",
   "metadata": {},
   "source": [
    "Sin embargo, si ahora hablamos del **bucle while**, no tenemos la misma funcionalidad, al bucle while hay que pararle, en el sentido más drástico, si no le paramos puede generar bucles infinitos. Las características del bucle while son como la palabra indica, mientras que el resultado sea verdadero, me repito. "
   ]
  },
  {
   "cell_type": "code",
   "execution_count": 6,
   "id": "f34a7c0a-fdc4-4e9b-af6d-6d6c92e5efbd",
   "metadata": {},
   "outputs": [],
   "source": [
    "# Bucle infinito\n",
    "\"\"\"\n",
    "# variable n valor 1 estatico\n",
    "n = 1\n",
    "\n",
    "while n < 3: # Valor que le pasamos a comarar estatico\n",
    "\n",
    "# Lo que while entiende es mientras n = 1 sea menor que tres\n",
    "# es verdadero, pues imprimo\n",
    "\n",
    "    print(\"Infinito\")\n",
    "\"\"\""
   ]
  },
  {
   "cell_type": "markdown",
   "id": "a76f1f3e-fd7f-4592-959c-8b66a415b160",
   "metadata": {},
   "source": [
    "Una de las formas de controlar el flujo es pasándole un contador, controlar las iteraciones nos capacita para pararlas en el momento queremos, cumpliendo nuestro objetivo, controlar el flujo de la aplicación, en este caso en el trozo de código que controla un bucle."
   ]
  },
  {
   "cell_type": "markdown",
   "id": "cd9f9702-3507-425c-8a1d-f9199332487c",
   "metadata": {},
   "source": [
    "Veamos el mismo ejemplo, pero controlando las iteraciones que queremos pasar."
   ]
  },
  {
   "cell_type": "code",
   "execution_count": 5,
   "id": "fa7473e5-c04f-41ed-9ed7-04e15d284dc9",
   "metadata": {},
   "outputs": [
    {
     "name": "stdout",
     "output_type": "stream",
     "text": [
      "19: control loop while\n",
      "15: control loop while\n",
      "11: control loop while\n",
      "7: control loop while\n",
      "3: control loop while\n",
      "-1: control loop while\n"
     ]
    }
   ],
   "source": [
    "n = 1\n",
    "count = 23\n",
    "\n",
    "while n < count:\n",
    "    count -= 4\n",
    "    print(f'{count}: control loop while')"
   ]
  },
  {
   "cell_type": "markdown",
   "id": "27bd48f4-4991-4cad-a29c-3e38bc535fa5",
   "metadata": {},
   "source": [
    "Veamos que ha pasado aquí. \n",
    "\n",
    "De 23 ha descontado 4 en cada ciclo, estamos de acuerdo, como hemos hablado, queremos controlar el flujo y querer pararlo, le ponemos un contador y limitamos a gusto, puede ser para adelante, para atrás, un carácter, una expresión, hay que poder controlarlo.  "
   ]
  },
  {
   "cell_type": "markdown",
   "id": "d06c0652-5dc4-4813-ba74-40d2c747663e",
   "metadata": {},
   "source": [
    "Si miráramos ahora mismo a nuestra mesa de herramientas, disponemos de condicionales, disponemos de bucles, disponemos de recursos de dirección como break, continue, pensemos en construir algo, simple vale, pero construir. A mí se me ocurre, por ejemplo."
   ]
  },
  {
   "cell_type": "code",
   "execution_count": 2,
   "id": "db845038-c681-4aeb-a1d4-ec546c398436",
   "metadata": {},
   "outputs": [
    {
     "name": "stdout",
     "output_type": "stream",
     "text": [
      "Entre 21 y 25 grados\n"
     ]
    }
   ],
   "source": [
    "temp = 21.3\n",
    "\n",
    "grades = {\n",
    "    'Frio' : 'Entre 0 y 21 grados',\n",
    "    'Agradable' : 'Entre 21 y 25 grados',\n",
    "    'Calor' : 'Entre 25 y help',\n",
    "    }\n",
    "\n",
    "if temp <= 21.00:\n",
    "    print(grades['Frio'])\n",
    "elif temp > 21.00:\n",
    "    print(grades['Agradable'])\n",
    "elif temp > 25.00:\n",
    "    print(grades['Calor'])"
   ]
  },
  {
   "cell_type": "markdown",
   "id": "31986a66-26f6-4355-b503-0e52f7af7b4c",
   "metadata": {},
   "source": [
    "Este ejemplo enlaza completamente con lo hablado del dinamismo y las condicionales, solo necesitamos una variable, y nosotros estructuramos el flujo, automatizamos las posibles decisiones, si hace frío, calor. Vamos un paso más, realicemos repeticiones que nos permitan aparte de controlar, dirigir, y dirigir lo entiendo como observar como la máquina hace el trabajo que deseo.\n",
    "\n",
    "Vamos a automatizar y poder observar los datos que queremos que nos digan la ropa que ponernos. Pues haya vamos."
   ]
  },
  {
   "cell_type": "markdown",
   "id": "f2d8a254-cfb5-4ee8-a5f9-45dee40d5995",
   "metadata": {},
   "source": [
    "Yo diría que necesitamos un bucle, cuál utilizaríamos, Para no consumir muchos recursos diría que la tarea más critica ahora mismo sería tener la capacidad de actualizar la variable tema, de vez en cuando. Utilizamos un bucle for que nos da seguridad."
   ]
  },
  {
   "cell_type": "code",
   "execution_count": 26,
   "id": "d7b9eaaa-6eb6-44e5-a64b-5a55ae6c73fe",
   "metadata": {},
   "outputs": [
    {
     "name": "stdout",
     "output_type": "stream",
     "text": [
      " Temperatura : 21.3 grados, Entre 21 y 25 grados de temperatura, se recomienda : sudadera\n",
      " Temperatura : 22.6 grados, Entre 21 y 25 grados de temperatura, se recomienda : sudadera\n",
      " Temperatura : 14.5 grados, Entre 0 y 21 grados de temperatura, se recomienda : abrigo\n",
      " Temperatura : 29.2 grados, Entre 25 y help de temperatura, se recomienda : camiseta\n",
      " Temperatura : 31.6 grados, Entre 25 y help de temperatura, se recomienda : camiseta\n",
      " Temperatura : 11.5 grados, Entre 0 y 21 grados de temperatura, se recomienda : abrigo\n",
      " Temperatura : 3 grados, Entre 0 y 21 grados de temperatura, se recomienda : abrigo\n"
     ]
    }
   ],
   "source": [
    "list_temp = [21.3, 22.6, 14.5, 29.2, 31.6, 11.5, 3]\n",
    "temp = 0\n",
    "grades = {\n",
    "    'Frio' : 'Entre 0 y 21 grados',\n",
    "    'Agradable' : 'Entre 21 y 25 grados',\n",
    "    'Calor' : 'Entre 25 y help',\n",
    "    }\n",
    "ropa = ['abrigo', 'sudadera', 'camiseta']\n",
    "\n",
    "for check in list_temp:\n",
    "    temp = check\n",
    "    if temp < 21.00:\n",
    "        print(f\" Temperatura : {temp} grados, {grades['Frio']} de temperatura, se recomienda : {ropa[0]}\")\n",
    "    elif temp > 21.00 and temp < 25:\n",
    "        print(f\" Temperatura : {temp} grados, {grades['Agradable']} de temperatura, se recomienda : {ropa[1]}\")\n",
    "    elif temp > 25.00:\n",
    "        print(f\" Temperatura : {temp} grados, {grades['Calor']} de temperatura, se recomienda : {ropa[2]}\")"
   ]
  },
  {
   "cell_type": "markdown",
   "id": "c8151d98-e161-4a65-a545-7abfedb41d8d",
   "metadata": {},
   "source": [
    "Resumiendo un poco este ejemplo, nos hemos creado un sensor de temperatura en forma de lista (list_temp), una variable temp que lo dirige todo, un diccionario donde guardamos parte de los datos para confeccionar el resultado, una lista por el mero echo de tener organizada la ropa. Y una vez hemos tenido todo esto preparado iteramos y tomamos la decisión para configurar el resultado, según la temperatura del último chequeo, nos recomendará una prenda de ropa.\n",
    "\n",
    "Lo podemos leer, si queremos, pasamos a la parte interesante, para cada check que hagas al termómetro, lo igualas a la variable temp, y tomamos la decisión que esté establecida y se evalúe como verdadera."
   ]
  },
  {
   "cell_type": "markdown",
   "id": "e078fb40-9238-448d-a21c-8226403be729",
   "metadata": {},
   "source": [
    "Y como final, y creo que para contestar a la segunda pregunta, ¿por qué son útiles?, porque son necesarios, menuda gracia, que un computador no pudiera repetir operaciones, cálculos, búsquedas, sumatorios, o muchas otras acciones que son necesarias realizar, no me imagino teniendo que cambiar la extensión de un fichero en miles de carpetas si no podemos escribir un bucle que realice la tarea repetitiva.\n",
    "\n",
    "Ahora sí, como final, juntemos alguna herramienta más a nuestra maleta."
   ]
  },
  {
   "cell_type": "code",
   "execution_count": 45,
   "id": "067821d7-e1ff-44ee-b745-2e35e6d2f12f",
   "metadata": {},
   "outputs": [
    {
     "name": "stdout",
     "output_type": "stream",
     "text": [
      "end loop\n"
     ]
    }
   ],
   "source": [
    "# Creamos un interrogador al sensor\n",
    "# Sensor de temperatura, ofrece 0 ok and 1 error, -25º to 55º\n",
    "status_list = [0,1,0,1,0,0,0,0,0,1,0,1,0,1,1,1,0,0,0,1]\n",
    "count_sensor = len(status_list)\n",
    "count = 0\n",
    "sensor_status = status_list[0]\n",
    "\n",
    "#print(count_sensor)\n",
    "#print(sensor_status)\n",
    "\n",
    "while count < count_sensor:\n",
    "    #print(\"iteration loop\")\n",
    "    #print(status_list)\n",
    "    sensor_status = status_list[count]\n",
    "    #print(sensor_status)\n",
    "    count += 1\n",
    "else:\n",
    "    print(\"end loop\")"
   ]
  },
  {
   "cell_type": "markdown",
   "id": "5e5ac9b5-53a7-4ff7-85b6-b0d32d2ed727",
   "metadata": {},
   "source": [
    "Ahora que tenemos un interrogador, con un bucle while, controlado, construyamos la otra pieza. Pero antes expliquemos algún detalle, hemos creado una lista con la vida del sensor, envía 0 ó 1 según este, hemos averiguado la cantidad de elementos que tiene la lista con la función len, damos vida a la variable que nos servirá de contador y trasladamos el primer elemento de la lista a la variable que recogerá la situación del sensor.\n",
    "\n",
    "Una vez tenemos todos los datos claros, iteramos con ellos, le decimos al bucle while que mientras la variable count sea mas pequeña que la cantidad de elementos que ha obtenido count_sensor de la función len, con el numero de elementos de la lista, entonces mientas sea menor el resultado es verdadero, sigua iterando, en cuanto sea igual o superior debe parar, para saliendo del bucle con el sino si, e imprime un final de bucle. Bucle while controlado y creo que incluso dirigido."
   ]
  },
  {
   "cell_type": "markdown",
   "id": "ddff7d60-4ccd-4e9e-9956-7609a3f3834f",
   "metadata": {},
   "source": [
    "Estáis viendo mucho print, visualizando el resultado, esta es mi forma de seguir el flujo, todos hemos hecho collares de macarrones, y en algún punto tienes que hacer un nudo para que no se te escape lo que has hecho ya, mi nudo es un print y visualizo el resultado hasta el momento, no sé si es operativo, pero hasta el momento me sirve, los podría eliminar, pero estoy construyendo un flujo y eso me permite volver por si lo pierdo en algún momento."
   ]
  },
  {
   "cell_type": "code",
   "execution_count": 49,
   "id": "e7bae852-bbcd-4b0d-a35a-29b706aa914b",
   "metadata": {},
   "outputs": [
    {
     "name": "stdout",
     "output_type": "stream",
     "text": [
      " Temperatura : 12.6 grados, Entre 0 y 21 grados de temperatura, se recomienda : abrigo\n",
      " Error toma muestra : -500\n",
      " Temperatura : 21.14 grados, Entre 21 y 25 grados de temperatura, se recomienda : sudadera\n",
      " Error toma muestra : -500\n",
      " Temperatura : 23.1 grados, Entre 21 y 25 grados de temperatura, se recomienda : sudadera\n",
      " Temperatura : 16.5 grados, Entre 0 y 21 grados de temperatura, se recomienda : abrigo\n",
      " Temperatura : 29.6 grados, Entre 25 y help de temperatura, se recomienda : camiseta\n",
      " Temperatura : -15.2 grados, Entre 0 y 21 grados de temperatura, se recomienda : abrigo\n",
      " Temperatura : 28.6 grados, Entre 25 y help de temperatura, se recomienda : camiseta\n",
      " Error toma muestra : -500\n",
      " Temperatura : 23.21 grados, Entre 21 y 25 grados de temperatura, se recomienda : sudadera\n",
      " Error toma muestra : -500\n",
      " Temperatura : 43.2 grados, Entre 25 y help de temperatura, se recomienda : camiseta\n",
      " Error toma muestra : -500\n",
      " Error toma muestra : -500\n",
      " Error toma muestra : -500\n",
      " Temperatura : 33.6 grados, Entre 25 y help de temperatura, se recomienda : camiseta\n",
      " Temperatura : 11.12 grados, Entre 0 y 21 grados de temperatura, se recomienda : abrigo\n",
      " Temperatura : -6.3 grados, Entre 0 y 21 grados de temperatura, se recomienda : abrigo\n",
      " Error toma muestra : -500\n"
     ]
    }
   ],
   "source": [
    "# La siguiente construcción, sabiendo que el sensor, nos ofrece servicio, nos lanza un estado 0,\n",
    "# quiere decir en funcionamiento ok, o 1 que sería error de sensor.\n",
    "# Ahora obtendremos el valor de temperatura que también lanza el sensor.\n",
    "\n",
    "# Ajustamos una lista de temperaturas\n",
    "check_temp = [12.6,-500,21.14,-500,23.1,16.5,29.6,-15.2,28.6,-500,23.21,-500,43.2,-500,-500,-500,33.6,11.12,-6.3, -500]\n",
    "count_temp = len(check_temp)\n",
    "temp = check_temp[0]\n",
    "\n",
    "# Creamos nuestras bibliotecas de datos, diccionarios y listas\n",
    "grades = {\n",
    "    'Frio' : 'Entre 0 y 21 grados',\n",
    "    'Agradable' : 'Entre 21 y 25 grados',\n",
    "    'Calor' : 'Entre 25 y help',\n",
    "    }\n",
    "ropa = ['abrigo', 'sudadera', 'camiseta']\n",
    "\n",
    "# Verificamos los datos pasados, estado sensor y temperatura\n",
    "if count_temp == count_sensor:\n",
    "    for t in check_temp:\n",
    "        if t > -25.00 and t <= 21.00:\n",
    "            print(f\" Temperatura : {t} grados, {grades['Frio']} de temperatura, se recomienda : {ropa[0]}\")\n",
    "        elif t > 21.00 and t <= 25.00:\n",
    "            print(f\" Temperatura : {t} grados, {grades['Agradable']} de temperatura, se recomienda : {ropa[1]}\")\n",
    "        elif t > 25.00 and t <= 55.00:\n",
    "            print(f\" Temperatura : {t} grados, {grades['Calor']} de temperatura, se recomienda : {ropa[2]}\")\n",
    "        else:\n",
    "            print(f\" Error toma muestra : {t}\")\n",
    "else:\n",
    "    print(\"error system\")"
   ]
  },
  {
   "cell_type": "markdown",
   "id": "457ae7c7-f99b-434c-a8c5-c6438abc4897",
   "metadata": {},
   "source": [
    "En esta segunda parte, hemos utilizado un bucle for y un montón de condicionales, si nos damos cuenta, hemos creado un flujo de datos o mejor hemos construido un flujo de datos que controlamos y dirigimos, el objetivo yo lo daría como cumplido. Pero quiero hacer una reflexión personal.\n",
    "\n",
    "Evidentemente en esta segunda parte de nuestra construcción es donde creamos nuestras condicionales para que el código tome decisiones, supongamos que somos una persona muy calurosa, que a partir de 24 grados tiene algo de frío, ya no sería agradable para tí la condición.\n",
    "\n",
    "En este caso tendríamos que modificar el condicionamiento que aplicamos o por ejemplo, mejor, evolucionar y desarrollar un script que acumule datos según nuestros hábitos de temperatura y uso de prendas de ropa y él pueda adaptar tu temperatura agradable y en relación con eso pueda recomendarte, evolución o modificación. Yo estoy por la evolución.\n"
   ]
  }
 ],
 "metadata": {
  "kernelspec": {
   "display_name": "Python 3 (ipykernel)",
   "language": "python",
   "name": "python3"
  },
  "language_info": {
   "codemirror_mode": {
    "name": "ipython",
    "version": 3
   },
   "file_extension": ".py",
   "mimetype": "text/x-python",
   "name": "python",
   "nbconvert_exporter": "python",
   "pygments_lexer": "ipython3",
   "version": "3.11.5"
  },
  "widgets": {
   "application/vnd.jupyter.widget-state+json": {
    "state": {},
    "version_major": 2,
    "version_minor": 0
   }
  }
 },
 "nbformat": 4,
 "nbformat_minor": 5
}
