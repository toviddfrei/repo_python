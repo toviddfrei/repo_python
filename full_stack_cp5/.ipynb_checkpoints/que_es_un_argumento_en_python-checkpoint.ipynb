{
 "cells": [
  {
   "cell_type": "markdown",
   "id": "37484f7a-f799-460a-8029-81cb0911bebd",
   "metadata": {},
   "source": [
    "# ¿Qué es un argumento en Python?"
   ]
  },
  {
   "cell_type": "markdown",
   "id": "757f8a51-e07f-43d9-859f-dc0f3b24e600",
   "metadata": {},
   "source": [
    "Los argumentos en funciones se refieren a los valores que se pasan a una función para que realice una tarea específica. Como desarrolladores, es común encontrarnos con situaciones en las que necesitamos que una función tome distintos valores para realizar una tarea en particular."
   ]
  },
  {
   "cell_type": "markdown",
   "id": "f634ea5b-123b-4a76-8db4-fc098b7f2439",
   "metadata": {},
   "source": [
    "¿Qué es un argumento en programación?\n",
    "Argumento (informática) - Wikipedia, la enciclopedia libre\n",
    "En ciencias de la computación, un parámetro es una variable utilizada para recibir valores de entrada en una rutina, subrutina o método. Dichos valores, que serán enviados desde la rutina invocante, son llamados argumentos."
   ]
  },
  {
   "cell_type": "markdown",
   "id": "4721b1e3-d7cd-429a-9991-27e7cc969552",
   "metadata": {},
   "source": [
    "En ciencias de la computación, un parámetro es una variable utilizada para recibir valores de entrada en una rutina, subrutina o método. Dichos valores, que serán enviados desde la rutina invocante, son llamados argumentos. La subrutina usa los valores asignados a sus parámetros para alterar su comportamiento en tiempo de ejecución. La mayor parte de los lenguajes de programación pueden definir subrutinas que aceptan cero o más argumentos."
   ]
  }
 ],
 "metadata": {
  "kernelspec": {
   "display_name": "Python 3 (ipykernel)",
   "language": "python",
   "name": "python3"
  },
  "language_info": {
   "codemirror_mode": {
    "name": "ipython",
    "version": 3
   },
   "file_extension": ".py",
   "mimetype": "text/x-python",
   "name": "python",
   "nbconvert_exporter": "python",
   "pygments_lexer": "ipython3",
   "version": "3.11.5"
  },
  "widgets": {
   "application/vnd.jupyter.widget-state+json": {
    "state": {},
    "version_major": 2,
    "version_minor": 0
   }
  }
 },
 "nbformat": 4,
 "nbformat_minor": 5
}
