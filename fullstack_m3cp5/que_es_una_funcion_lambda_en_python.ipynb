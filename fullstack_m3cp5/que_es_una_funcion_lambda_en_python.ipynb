{
 "cells": [
  {
   "cell_type": "markdown",
   "id": "70707320-acd5-483b-bc46-5f647fffa2f7",
   "metadata": {},
   "source": [
    "# ¿Qué es una función Lambda en Python?"
   ]
  },
  {
   "cell_type": "markdown",
   "id": "e81d98b7-d0d9-4468-81d4-0b30b4efe410",
   "metadata": {},
   "source": [
    "Me gusta despiezar, primero, **¿qué es una función?**, hemos venido comentándolo desde hace un poco de tiempo. Literalmente extraído de una búsqueda en Google el primer documento que encuentro de Python oficial es una lista de funciones incorporadas, ya me dice algo, el propio python incorpora funciones, pero que leches son las funciones. \n",
    "\n",
    "Bueno, creo que podemos hablar más en términos generales de programación, no solo en python, que \"función es un bloque de código que realiza alguna operación. Una función puede definir opcionalmente parámetros de entrada que permiten a los llamadores pasar argumentos a la función. Una función también puede devolver un valor como salida.\", también lo encuentras en Google.\n",
    "\n",
    "Y ahora mi interpretación, una función, es mi herramienta navaja suiza, puedo hacer lo que quiera, cuando quiera y como quiera, solo con llamarlo, solo con buscarlo dentro de mi maletín de herramientas, es mi acoplador de llaves. Puedo tener un buscador completo en una llamada, teniendo búsqueda con expresiones regulares a la espera de pasarle texto a analizar, puedo tener un emulador de sensor que me permita montar un laboratorio vivo con captura de datos, puedo, puedo, en definitiva es la organización que te hace falta cuando de verdad haces zoom sobre lo que traes aprendido, donde colocarlo y como colocarlo."
   ]
  },
  {
   "cell_type": "markdown",
   "id": "1d16c6f6-6b68-4816-9279-16ba24dbf65a",
   "metadata": {},
   "source": [
    "Teniendo claro que una función es una estructura de datos, tal cual la estructura de un edificio, al cual llegas llamando al interfono y pasándole unos parámetros si es necesario. Llegamos a las funciones lambda, son funciones anónimas, quiere decir sin nombre. Hemos visto que la sintaxis al definir una función es def y nombre de la función y luego paréntesis de apertura y cierre donde irían los argumentos si fueran necesarios.\n",
    "\n",
    "Pues la función lambda anónima cambia un pelín las cosas, por lo de ser anónima, no tiene nombre, no la puedes llamar, mmmmmmmmmm, ¿entonces como la puedo utilizar?\n",
    "\n",
    "Vale, que pueden hacer las funciones, retornar resultado, pues eso la función lambda retorna su resultado a la variable u otra función que la guarde, si he dicho otra función.\n",
    "\n",
    "Veamos algunos ejemplos para visualizar el escenario que hemos propuesto."
   ]
  },
  {
   "cell_type": "code",
   "execution_count": 17,
   "id": "bccf8e4c-8ffc-4e2b-a31c-9f53acccc743",
   "metadata": {},
   "outputs": [
    {
     "name": "stdout",
     "output_type": "stream",
     "text": [
      "I fuction basic\n"
     ]
    }
   ],
   "source": [
    "def name_lambda():\n",
    "    print(\"I fuction basic\")\n",
    "\n",
    "name_lambda()"
   ]
  },
  {
   "cell_type": "markdown",
   "id": "13312d9d-410e-41f8-b9e6-e0ccfe296e96",
   "metadata": {},
   "source": [
    "Estructura de una función básica que imprimiría \"I function basic\", si la llamáramos name_lambda()."
   ]
  },
  {
   "cell_type": "code",
   "execution_count": 16,
   "id": "b2dfc1b6-422c-4a92-a59d-81c26b339c45",
   "metadata": {},
   "outputs": [
    {
     "name": "stdout",
     "output_type": "stream",
     "text": [
      "Message: I function basic\n"
     ]
    }
   ],
   "source": [
    "message = lambda st_me: \"Message: \" + st_me \n",
    "print(message('I function basic'))"
   ]
  },
  {
   "cell_type": "markdown",
   "id": "93781bc0-a124-4a79-ac40-099fe56d544c",
   "metadata": {},
   "source": [
    "Vemos que tras retornar el valor pasado, lo guarda la variable, un detalle importante es que dentro de la función lambda anónima, solo se nos permite una expresión, y múltiples parámetros, entonces, hagamos lo mismo, pero de otra manera."
   ]
  },
  {
   "cell_type": "code",
   "execution_count": 15,
   "id": "6069b4fc-4a19-464c-b3c6-01c853d54ed6",
   "metadata": {},
   "outputs": [
    {
     "name": "stdout",
     "output_type": "stream",
     "text": [
      "Message: I function lambda ¡Hi!\n"
     ]
    }
   ],
   "source": [
    "message = lambda a, b, c, d: \"Message: \" + a + b + c + d \n",
    "print(message('I ', 'function ', 'lambda ','¡Hi!'))"
   ]
  },
  {
   "cell_type": "markdown",
   "id": "1b626884-d577-4696-88b4-01d4918f5ee9",
   "metadata": {},
   "source": [
    "Está claro que llegamos al mismo objetivo, utilizando sus preceptivos, una expresión, múltiples parámetros, la expresión es nuestro mensaje, los parámetros es la descomposición del mensaje, que como veníamos diciendo son los cuatro carteros que enviamos, a, b, c y d."
   ]
  },
  {
   "cell_type": "markdown",
   "id": "d0f1ae8c-8072-4c56-bec8-109b42dc6197",
   "metadata": {},
   "source": [
    "Intentemos profundizar y darle aún mayor uso a las funciones lambda, tenemos que ver todo el potencial que tiene, no necesitamos importar ningún módulo, ni instalar ningún módulo con pip, está disponible sin tener que pensar en ningún nombre específico, es una parte que encaja perfectamente en una navaja suiza, abrir y usar."
   ]
  },
  {
   "cell_type": "markdown",
   "id": "f0e62d02-6093-427f-9ed4-4a8009a3426e",
   "metadata": {},
   "source": [
    "Pongamos un objetivo, que es más fácil seccionarlo, queremos tener una función que ella solita, me extraiga solo los nombre de una lista que tenga o mejor que comience por un carácter específico. Seguimos evolucionando y vemos que nuestra primera línea ya no es lo que era."
   ]
  },
  {
   "cell_type": "code",
   "execution_count": 29,
   "id": "5cf8b39a-b04d-4666-8e55-a2739ef3acd0",
   "metadata": {},
   "outputs": [
    {
     "name": "stdout",
     "output_type": "stream",
     "text": [
      "['Amparo', 'Andrea', 'Carmen', 'Daniel', 'Felipe', 'Jose', 'Manuel', 'Maria', 'Miguel', 'Raquel']\n"
     ]
    }
   ],
   "source": [
    "list_name = ['Daniel', 'Jose', 'Felipe', 'Carmen', 'Andrea', 'Manuel', 'Maria', 'Raquel', 'Miguel', 'Amparo' ]\n",
    "list_order = lambda list: sorted(list)    \n",
    "print(list_order(list_name))\n"
   ]
  },
  {
   "cell_type": "markdown",
   "id": "fb03f92a-e440-445b-aded-f0688023d9c5",
   "metadata": {},
   "source": [
    "Empezamos a ver lo productivo que puede ser, le hemos pasado un argumento como una lista y le decimos que nos la ordene y después coloque el resultado en la variable list_order. Si nos paramos a pensar ahora manejamos 10 nombres, y si lo multiplicamos por 10.000, el control de las listas y el uso de herramientas que nos lo permitan es fundamental, por lo tanto, lambda al bolsillo, sigamos jugando un poco, y avanzamos en lo que viene, personalmente está siendo un parque de atracciones la experiencia de preparar esta documentación, estoy disfrutando muchísimo, espero que el o los lectores también lo lleguen a conseguir."
   ]
  },
  {
   "cell_type": "markdown",
   "id": "58a0973d-b0f5-43b9-92bb-738b3c6a9926",
   "metadata": {},
   "source": [
    "Entonces, si pretendemos y olvidándonos un poco de los recursos, ya llegará la hora de optimizar. Pensemos en preparar el terreno, una de las técnicas que en un futuro discutiremos es como mejorar las búsquedas dentro de las listas, esto implica tener claro que buscar en una lista es recorrerla entera, excepto si vamos realizando el trabajo por secciones, bueno es un tema apasionante, pero me gustaría quedarme que una de las obligatoriedades para utilizar esta técnica que se denomina búsqueda binaria es tener la lista donde vamos a buscar ordenada. \n",
    "\n",
    "Supongamos que tenemos varias listas donde queremos buscar un usuario, cada una de aquella forma y aquella manera, entonces las hemos reducido, pero todavía no las hemos podido ordenar para que la búsqueda sea más rápida."
   ]
  },
  {
   "cell_type": "code",
   "execution_count": null,
   "id": "ec5d7317-3b90-46d3-b00b-bed6ee9422ac",
   "metadata": {},
   "outputs": [],
   "source": [
    "list_1 = [1,2,4,6,7,9,10,32,45,26,5,6,8,9,26,23,5,4,8,62,59,126,16,16,163,456,16]\n",
    "list_2 = [1,2,4,6,7,9,10,32,45,126,16,16,163,456,16]\n",
    "list_3 = [10,32,45,26,5,6,8,9,26,23,5,4,8,62,59]"
   ]
  },
  {
   "cell_type": "markdown",
   "id": "d3c3f074-1b0c-4010-be4a-1cfd39a0432f",
   "metadata": {},
   "source": [
    "Vale, vemos a lo que nos enfrentamos."
   ]
  },
  {
   "cell_type": "code",
   "execution_count": 41,
   "id": "d35c9273-33d2-4fe8-9440-7432128f5f69",
   "metadata": {},
   "outputs": [
    {
     "name": "stdout",
     "output_type": "stream",
     "text": [
      "[1, 1, 2, 2, 4, 4, 4, 4, 5, 5, 5, 5, 6, 6, 6, 6, 7, 7, 8, 8, 8, 8, 9, 9, 9, 9, 10, 10, 10, 16, 16, 16, 16, 16, 16, 23, 23, 26, 26, 26, 26, 32, 32, 32, 45, 45, 45, 59, 59, 62, 62, 126, 126, 163, 163, 456, 456]\n"
     ]
    }
   ],
   "source": [
    "list_1 = [1,2,4,6,7,9,10,32,45,26,5,6,8,9,26,23,5,4,8,62,59,126,16,16,163,456,16]\n",
    "list_2 = [1,2,4,6,7,9,10,32,45,126,16,16,163,456,16]\n",
    "list_3 = [10,32,45,26,5,6,8,9,26,23,5,4,8,62,59]\n",
    "\n",
    "list_order = lambda l1, l2, l3: sorted(sorted(l1)+sorted(l2)+sorted(l3))\n",
    "\n",
    "print(list_order(list_1, list_2, list_3))"
   ]
  },
  {
   "cell_type": "markdown",
   "id": "ec45ab1d-8f9a-4e2a-8a51-4107626c8dca",
   "metadata": {},
   "source": [
    "En este momento lambda acaba de demostrar su poderío."
   ]
  },
  {
   "cell_type": "markdown",
   "id": "4c9e35e4-bc7f-4785-b6c6-7fa5beea910c",
   "metadata": {},
   "source": [
    "Vale, hacemos nuestro último supuesto, con búsqueda incluida, pero incluimos el avance o mejor la entrada a la última pregunta de este apasionante checkpoint, los módulos, ya no solo pip, todo el entorno python. Bueno, quisiera incluir en este último ejemplo el módulo con el que estoy disfrutando últimamente, el módulo re, son expresiones regulares, lo considero la guinda del pastel, iteraciones, condicionales, expresiones regulares, sería tener una navaja suiza de bastante calidad."
   ]
  },
  {
   "cell_type": "code",
   "execution_count": 42,
   "id": "e0a60a14-b472-4aba-b670-224bf0987f2a",
   "metadata": {},
   "outputs": [
    {
     "name": "stdout",
     "output_type": "stream",
     "text": [
      "<re.Match object; span=(1, 2), match='a'>\n"
     ]
    }
   ],
   "source": [
    "import re\n",
    "\n",
    "string_content = 'Vale hacemos nuestro ultimo supuesto, con busqueda incluida, pero incluimos el avance o mejor la entrada a la ultima pregunta de este apasionante checkpoint, los módulos, ya no solo pip, todo el entorno python. Bueno, quisiera incluir en este ultimo ejemplo el modulo con el que estoy disfrutando ultimamente'\n",
    "            \n",
    "name_user = re.search('a', string_content)\n",
    "print(name_user)"
   ]
  },
  {
   "cell_type": "markdown",
   "id": "5b5c7239-132b-4937-bc74-bb7c2858d410",
   "metadata": {},
   "source": [
    "Voy a ser muy efímero en la explicación, nos dice que ha hecho Math con un resultado en las posiciones 1 y 2 de la cadena pasada. Se abre un mundo de posibilidades, bueno, pero lo importante en la siguiente pregunta y final, hablamos sobre pip, eso sí que es evolucionar, lo estoy deseando. Trabajaremos con pip, import y algunas cosillas más."
   ]
  }
 ],
 "metadata": {
  "kernelspec": {
   "display_name": "Python 3 (ipykernel)",
   "language": "python",
   "name": "python3"
  },
  "language_info": {
   "codemirror_mode": {
    "name": "ipython",
    "version": 3
   },
   "file_extension": ".py",
   "mimetype": "text/x-python",
   "name": "python",
   "nbconvert_exporter": "python",
   "pygments_lexer": "ipython3",
   "version": "3.11.5"
  },
  "widgets": {
   "application/vnd.jupyter.widget-state+json": {
    "state": {},
    "version_major": 2,
    "version_minor": 0
   }
  }
 },
 "nbformat": 4,
 "nbformat_minor": 5
}
