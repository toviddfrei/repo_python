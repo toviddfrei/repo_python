{
 "cells": [
  {
   "cell_type": "markdown",
   "id": "f9efb5cc-e0c3-4b0b-be5d-01d47c80e39b",
   "metadata": {},
   "source": [
    "# ¿Qué es una lista por comprensión en Python?"
   ]
  },
  {
   "cell_type": "markdown",
   "id": "c8489dab-23f0-4ec0-ab9d-2191288c9b88",
   "metadata": {},
   "source": [
    "Si me permitís, yo, empezaría por exponer todo lo conocido sobre listas, y andando hacia un objetivo claro que son las listas por compresión y como implementarlas.\n",
    "\n",
    "Por lo tanto, una lista es una colección de elementos que queremos guardar, a su vez es un espacio de memoria que queremos utilizar.\n",
    " \n",
    "Hasta el momento tenemos un montón de herramientas que podemos utilizar, hemos visto, las expresiones condicionales if, elif, else, los bucles for y while, y las palabras clave para manejar el flujo de datos. Si ampliamos el foco, y miramos todos el script, bueno, no diría todos, pero gran parte del script de estos documentos, partimos desde una lista, está claro que nos preguntan sobre lista por compresión, pero volvemos a partir desde una lista, por lo tanto, empecemos con nuestra lista."
   ]
  },
  {
   "cell_type": "code",
   "execution_count": 1,
   "id": "0c871db0-39b4-401d-80af-62e35c28bc62",
   "metadata": {},
   "outputs": [
    {
     "name": "stdout",
     "output_type": "stream",
     "text": [
      "[1, 2, 3, 4, 5]\n"
     ]
    }
   ],
   "source": [
    "list = [1,2,3,4,5]\n",
    "print(list)"
   ]
  },
  {
   "cell_type": "markdown",
   "id": "43e20c70-fc36-40b1-a5b9-2bac8fd7aab2",
   "metadata": {},
   "source": [
    "Si quisiéramos incluir un elemento nuevo en nuestra lista utilizaríamos la función append(), que añade un elemento nuevo al final de la lista, también utilizaremos la función len que cuenta elementos de la lista."
   ]
  },
  {
   "cell_type": "code",
   "execution_count": 1,
   "id": "00adbff7-f82e-4bc8-a1e0-299475e2827b",
   "metadata": {},
   "outputs": [
    {
     "name": "stdout",
     "output_type": "stream",
     "text": [
      "[1, 2, 3, 4, 5]\n",
      "5\n",
      "6\n",
      "[1, 2, 3, 4, 5, '10']\n"
     ]
    }
   ],
   "source": [
    "list = [1,2,3,4,5]\n",
    "print(list)\n",
    "total_elementos_lista = len(list)\n",
    "print(total_elementos_lista)\n",
    "list.append('10')\n",
    "total_elementos_lista = len(list)\n",
    "print(total_elementos_lista)\n",
    "print(list)"
   ]
  },
  {
   "cell_type": "markdown",
   "id": "b9bb93c0-7644-4053-aa16-bbc47e2bb3ba",
   "metadata": {},
   "source": [
    "Ahora. Se me ocurre, ¿cómo sabemos qué posición ocupa el elemento en la lista? Pues tenemos otra función sin necesidad de importar ningún módulo, sino de la base de python3 que estamos utilizando. Es index(), lo probamos."
   ]
  },
  {
   "cell_type": "code",
   "execution_count": 7,
   "id": "6142ef24-6a48-4b14-aaaf-41d3d682cba9",
   "metadata": {},
   "outputs": [
    {
     "data": {
      "text/plain": [
       "4"
      ]
     },
     "execution_count": 7,
     "metadata": {},
     "output_type": "execute_result"
    }
   ],
   "source": [
    "list = [1,2,3,4,5]\n",
    "list.index(5)"
   ]
  },
  {
   "cell_type": "markdown",
   "id": "daa9cb33-0d3c-4d94-b74d-a8f9fcede8f7",
   "metadata": {},
   "source": [
    "Lo primero recordemos que las posiciones en una lista comienzan en 0, hay 5 elementos, en 5 posiciones comenzando en 0,1,2,3,4.\n",
    "\n",
    "De momento tenemos algo de control sobre nuestra lista, sabemos como agregar y como buscar los elementos dentro de ellas, pasemos a como eliminarlos del final de la lista, y sí he dicho del final de la lista. \n",
    "\n",
    "Tenemos que tener en cuenta que las listas no se crearon para ser un armario ropero, ahora cojo esto, dejo aquel, vuelvo a coger este, lo dejo en otro sitio, no, las listas funcionan recolocando todos los elementos de la lista, por lo tanto, cada eliminación de un elemento de la lista en la parte superior provoca la recolocación de todos los elementos de la lista, más recursos, mayor tiempo, mayor lentitud, en este caso las listas no sería nuestra mejor opción.\n",
    "\n",
    "Pasemos por esta decisión y retomemos la lista."
   ]
  },
  {
   "cell_type": "markdown",
   "id": "765f1ddd-3bb2-4a49-b291-b18129723a54",
   "metadata": {},
   "source": [
    "Nos vamos a plantear un ejemplo, tenemos una lista de invitados, pero tenemos que eliminar a uno de ellos, como la lista era por orden de llegada, has tomado la decisión de eliminar al último(en este caso no hay necesidad de recolocar otros elementos), python nos provee de otra función la función pop()"
   ]
  },
  {
   "cell_type": "code",
   "execution_count": 10,
   "id": "ab13b4bc-02de-4a91-b361-69a8740f908a",
   "metadata": {},
   "outputs": [
    {
     "data": {
      "text/plain": [
       "5"
      ]
     },
     "execution_count": 10,
     "metadata": {},
     "output_type": "execute_result"
    }
   ],
   "source": [
    "list = [1,2,3,4,5]\n",
    "list.pop()"
   ]
  },
  {
   "cell_type": "code",
   "execution_count": 11,
   "id": "0faeb8bf-ab7b-4dc9-a7e1-67dd61acabe2",
   "metadata": {},
   "outputs": [
    {
     "name": "stdout",
     "output_type": "stream",
     "text": [
      "[1, 2, 3, 4]\n"
     ]
    }
   ],
   "source": [
    "print(list)"
   ]
  },
  {
   "cell_type": "markdown",
   "id": "2c02bca5-b283-4ce8-b6da-067369811893",
   "metadata": {},
   "source": [
    "pop(), elimina el ultimo elemento y lo muestra.\n",
    "\n",
    "Ahora tenemos claro como crear la lista, como agregar elementos al final de la lista y como eliminarlos del final de la lista, si nos damos cuenta estamos trabajando con una sintaxis muy clara list nombramos tal como sabemos la lista, luego operador de asignación =, abrimos corchetes para crear la lista e incluimos elementos del tipo que sean separados por coma y cerramos corchetes.\n",
    "\n",
    "```text\n",
    "list_name = ['element1',1,'element2',2]\n",
    "```"
   ]
  },
  {
   "cell_type": "markdown",
   "id": "3f2a55d3-d1f3-41c5-a4d7-84d70ebb3634",
   "metadata": {},
   "source": [
    "Teniendo el funcionamiento claro de lo que es una lista, el paso evidente es saber que son las listas por compresión."
   ]
  },
  {
   "cell_type": "markdown",
   "id": "7a28a637-c84b-4f80-99a4-92e078131795",
   "metadata": {},
   "source": [
    "Vale, entonces pensemos en un desplegable, no de esos de mapas que eran inmensos que al final no sabias como detener aquello, no, es un desplegable agradable, de buen tacto, de buen leer, cómodo y conciso. Estamos en ese escenario."
   ]
  },
  {
   "cell_type": "markdown",
   "id": "eedb4ea3-ac95-4ea3-9ce5-989537401905",
   "metadata": {},
   "source": [
    "Entonces vamos a observar la sintaxis y su conversión a lista por compresión"
   ]
  },
  {
   "cell_type": "code",
   "execution_count": 9,
   "id": "7eceaa25-21aa-4aaa-905f-c454481b6e5a",
   "metadata": {},
   "outputs": [
    {
     "name": "stdout",
     "output_type": "stream",
     "text": [
      "[1, 2, 3, 4, 5]\n",
      "[1, 2, 3, 4, 5]\n"
     ]
    }
   ],
   "source": [
    "list = [1,2,3,4,5]\n",
    "print(list)\n",
    "list1 = [x for x in range(1,6)]\n",
    "print(list1)"
   ]
  },
  {
   "cell_type": "markdown",
   "id": "05542b84-7593-4809-8714-a98918d2ae77",
   "metadata": {},
   "source": [
    "Si apreciamos la variable que recoge la lista sigue igual, el operador igual, el primer corchete igual, pero aquí es donde llega el cambio. A partir de ese corchete y por supuesto entre el corchete de cierre, las listas por compresión, nos permiten ejecutar una expresión, con su bucle, e incluso con su condicional. Lo traducimos, en una línea podemos comprimir 4, si no más. Lo mostramos.\n",
    "Avanzamos un poco en la sintaxis, como hemos visto, a partir del primer corchete debemos colocar una expresión, ya sea carácter, número, cadena, operación, luego un primer bucle for para realizar la iteración que deseemos y después podemos decidir realizar otros bucles for o establecer condicionales con if al gusto."
   ]
  },
  {
   "cell_type": "markdown",
   "id": "a2bb24b2-409b-4eb1-93df-7f27ff6caff1",
   "metadata": {},
   "source": [
    "Seguimos un poco más, nos traemos un fantasma del pasado.\n",
    "\n",
    "```text\n",
    "# Creamos un interrogador al sensor\n",
    "# Sensor de temperatura, ofrece 0 ok and 1 error, -25º to 55º\n",
    "status_list = [0,1,0,1,0,0,0,0,0,1,0,1,0,1,1,1,0,0,0,1]\n",
    "count_sensor = len(status_list)\n",
    "count = 0\n",
    "sensor_status = status_list[0]\n",
    "```\n",
    "Es parte del script que hemos creado en el documento anterior, [\"cuales son los diferentes bubles en python y por que son utiles\".](http://localhost:8888/notebooks/anaconda3/full_stack_cp5/cuales-son-los-diferentes-tipos-de-bucles-en-Python-Por-que-son-utiles.ipynb)\n",
    "\n",
    "Si nos damos cuenta, la lista nombrada como status_list está llena de elementos, pero a lo mejor si no fuera una tarea monótona y repetitiva le pondría más. Vale pegamos piezas o mejor sacamos nuestras herramientas, tarea, monótona y repetitiva, evidentemente necesitamos un bucle, las listas por compresión son listas tan dinámicas que permiten el uso dentro de ellas de bucles for y condicionales if, solo siguiendo la sintaxis especificada.\n",
    "\n",
    "Vamos con ello"
   ]
  },
  {
   "cell_type": "markdown",
   "id": "53af80c3-a8d1-45fe-abee-9284cb99a99c",
   "metadata": {},
   "source": [
    "Extraigo literal del enunciado de la documentación de python, recomiendo utilizarla como cabecera.\n",
    "\n",
    "5.1.3. Comprensión de listas\n",
    "\n",
    "Las comprensiones de listas ofrecen una manera concisa de crear listas. Sus usos comunes son para hacer nuevas listas donde cada elemento es el resultado de algunas operaciones aplicadas a cada miembro de otra secuencia o iterable, o para crear un segmento de la secuencia de esos elementos para satisfacer una condición determinada.\n",
    "\n",
    "Por ejemplo, asumamos que queremos crear una lista de cuadrados, como:\n",
    "\n",
    "Vale, si os parece, vamos por partes, extraigamos los mensajes.\n",
    "- compresiones de listas ofrecen una manera concisa (específica, estricta, o llanamente esa y ya está.) de crear listas.\n",
    "- el uso común es para automatizar la creación de elementos a través del uso de herramientas como bucle for o condicional if."
   ]
  },
  {
   "cell_type": "code",
   "execution_count": 2,
   "id": "5564c3dd-c0e4-4b60-9a98-427fed1ca6e2",
   "metadata": {},
   "outputs": [
    {
     "data": {
      "text/plain": [
       "[2, 2, 2, 2, 2, 2, 2, 2, 2, 2]"
      ]
     },
     "execution_count": 2,
     "metadata": {},
     "output_type": "execute_result"
    }
   ],
   "source": [
    "\"\"\"\n",
    "¿La lista por compresión siempre tiene que guardarse en una variable, tal cual la listas de elementos normales?\n",
    "Diría que si, la sintaxis en definitiva es la misma que la lista, lo que nos permiten las listas por compresión\n",
    "es comprimir las operaciones de iteraciones del bucle, ejecutar condicionales.\n",
    "\n",
    "\"\"\"\n",
    "sum = []\n",
    "for x in range(10):\n",
    "    sum.append(1+1)\n",
    "\n",
    "sum"
   ]
  },
  {
   "cell_type": "code",
   "execution_count": 4,
   "id": "86941a79-2b74-45d6-a522-cc0e3ce87546",
   "metadata": {},
   "outputs": [
    {
     "name": "stdout",
     "output_type": "stream",
     "text": [
      "[1, 1, 1, 1, 1, 1, 1, 1, 1, 1]\n",
      "[0, 0, 0, 0, 0, 0, 0, 0, 0, 0]\n"
     ]
    }
   ],
   "source": [
    "list_one = [ 1 for i in range(1,11)]\n",
    "list_zero = [ 0 for x in range(10)]\n",
    "\n",
    "print(list_one)\n",
    "print(list_zero)"
   ]
  },
  {
   "cell_type": "markdown",
   "id": "47a4b7c0-ea26-4785-b486-6f45ee1c9357",
   "metadata": {},
   "source": [
    "Evaluemos lo escrito, hemos creado dos listas por compresión con el objetivo de iterar sobre ellas.\n",
    "\n",
    "Una lista está llena de 0 y otra está llena de 1, quien lo diría expresiones que a diario nos encontramos, valores booleanos. Nos acordamos del sensor, lanza un estado, como lo lanza, enviando un 0 o un 1. Podríamos decir que nuestra primera evolución ha llegado, si hacemos zoom sobre el documento, comenzamos extrayendo del documento anterior una herramienta que nos permitía guardar una serie de elementos, las listas, ahora tenemos una herramienta mejor, aparte de permitirnos guardar una serie de elementos, nos permite automatizar la creación de elementos, algo así como la ventanilla eléctrica de un coche, antes los subíamos a mano, ahora apretamos un botón, tan simple. ¿Y por qué no?, en las cuatro ventanillas, o mejor por reconocimiento de voz, vamos a ello."
   ]
  },
  {
   "cell_type": "markdown",
   "id": "9fc7b451-ae01-4828-818b-b61db47a2761",
   "metadata": {},
   "source": [
    "Supongamos que queremos dar vida a nuestro sensor, pensemos por un momento, un bucle repite siempre lo que le decimos, hasta que le decimos. Con esto claro. Dar vida como decimos es dar dinamismo, lo recordamos. Pues a ello, realicemos un bucle que inserte en una frecuencia de tiempo cada dígito, tal cual lo haría un sensor, en una lista nueva, que parece que crece en una frecuencia constante."
   ]
  },
  {
   "cell_type": "code",
   "execution_count": 5,
   "id": "4c5e7a11-0e63-4b14-808c-443eb2094743",
   "metadata": {},
   "outputs": [
    {
     "name": "stdout",
     "output_type": "stream",
     "text": [
      "[1, 1, 1, 1, 1, 1, 1, 1, 1, 1, 0, 0, 0, 0, 0, 0, 0, 0, 0, 0]\n"
     ]
    },
    {
     "data": {
      "text/plain": [
       "[0, 0, 0, 0, 0, 0, 0, 0, 0, 0, 1, 1, 1, 1, 1, 1, 1, 1, 1, 1]"
      ]
     },
     "execution_count": 5,
     "metadata": {},
     "output_type": "execute_result"
    }
   ],
   "source": [
    "# Utilizaremos las listas ya creadas list_one y list_zero\n",
    "# Utilizamos la función extend para extender la lista original sensor_status\n",
    "sensor_status = []\n",
    "sensor_status.extend(list_one)\n",
    "sensor_status.extend(list_zero)\n",
    "print(sensor_status)\n",
    "\n",
    "# Pensemos en comprimir, Listas por compresión\n",
    "sensor_status_comp = [x for x in list_zero + list_one]\n",
    "sensor_status_comp\n",
    "\n",
    "# Evidente evolución no?"
   ]
  },
  {
   "cell_type": "markdown",
   "id": "b404769f-020d-426b-a021-823e2575fb2f",
   "metadata": {},
   "source": [
    "Ahora, toca un poco de reflexión personal, si no estoy equivocado las listas por compresión son para comprimir el código y tras colocar los corchetes de apertura y cierre, viene una primera expresión, ya sea un número una cadena, una suma, después viene un bucle for, al cual le puede seguir otro bucle for o una expresión if cuantas veces deseemos.\n",
    "\n",
    "Creo que para mi objetivo, que es ampliar en lo posible la frecuencia del sensor, lo podría utilizar, pero. Ahora volvamos un poco a los bucles y listas normales. Como he dicho le queremos dar vida.\n",
    "\n",
    "Para ello, que mejor que darle tiempo, ¿cómo?, creamos dos variables, una para tiempo de vida t y otra para frecuencia de errores f, no nos olvidemos que, pretendemos emular un sensor de temperatura. En este momento llega el proceso creativo, y creo que de locura, opciones por un sitio, consultas por otras, pruebas y más pruebas, aprender, aprender, aprender, probar, probar, probar, os dejo a modo anécdota todo mi proceso mental hasta llegar al que creo es mi objetivo."
   ]
  },
  {
   "cell_type": "code",
   "execution_count": 12,
   "id": "0b407796-8297-440a-89dc-2319d360435c",
   "metadata": {},
   "outputs": [
    {
     "name": "stdout",
     "output_type": "stream",
     "text": [
      "3\n",
      "0\n",
      "3\n",
      "0\n"
     ]
    },
    {
     "data": {
      "text/plain": [
       "[0, 0]"
      ]
     },
     "execution_count": 12,
     "metadata": {},
     "output_type": "execute_result"
    }
   ],
   "source": [
    "new_time_line = []\n",
    "t = 2\n",
    "s = 0\n",
    "f = 3\n",
    "\n",
    "time_line = [ 0 for x in range(t)]\n",
    "\n",
    "for x in time_line:\n",
    "    #print(time_line.index(0))\n",
    "    if x != f:\n",
    "        print(f)\n",
    "        print(x)\n",
    "        new_time_line.append(x)\n",
    "    else:\n",
    "        print(\"Hola\")\n",
    "     #   print(time_line.index(x))\n",
    "      #  time_line.append(1)\n",
    "\n",
    "time_line\n",
    "new_time_line"
   ]
  },
  {
   "cell_type": "markdown",
   "id": "220d17dd-894c-4217-96bc-13d7d11a1fb7",
   "metadata": {},
   "source": [
    "Después de un rato realizando pruebas, consultando opciones, investigando, he llegado a este punto. Vemos el error que he cometido, estoy pasando una frecuencia de 3 como frecuencia de error, en una línea de tiempo que cuenta iteraciones del bucle t es el parámetro que pasamos a la función range(), en breve pasaremos a discutir sobre parámetros, estoy calentando motores. De momento en nuestro ejemplo el parámetro t pasado a la función range(t) es como decirle range(2), que es el valor actual de la variable t. Quedémonos con esa idea.\n",
    "\n",
    "Entonces pensemos, unifiquemos criterios, que hablen el mismo idioma las variables t y f, utilizaremos las iteraciones, seguimos controlando el flujo.\n",
    "\n",
    "Me gustaría implementar algo de aleatoriedad si se puede decir, sin llegar a importar el módulo random. Por ejemplo, f en principio tiene un valor de pi. Es una idea."
   ]
  },
  {
   "cell_type": "code",
   "execution_count": 34,
   "id": "ef6d3b04-11a0-4fba-98ca-9058b2e40da9",
   "metadata": {},
   "outputs": [
    {
     "name": "stdout",
     "output_type": "stream",
     "text": [
      "1\n",
      "0\n",
      "-1\n",
      "-2\n",
      "-3\n",
      "[0, 1, 1, 1, 1]\n"
     ]
    }
   ],
   "source": [
    "def sensor_read(t):\n",
    "    f = 2\n",
    "    time_line = [ 0 for x in range(t)]\n",
    "    sensor_status = []\n",
    "    for x in time_line:\n",
    "        f -= 1 # Error por mi parte, que voy a corregir, sigue bajando el valor de f por debajo de 0\n",
    "        print(f)\n",
    "        if x >= : \n",
    "            sensor_status.append(1)\n",
    "        else:\n",
    "            sensor_status.append(x)\n",
    "    \n",
    "    return sensor_status\n",
    "\n",
    "print(sensor_read(5))"
   ]
  },
  {
   "cell_type": "markdown",
   "id": "516fa089-0c09-49a5-bd1d-6a57fd3240b4",
   "metadata": {},
   "source": [
    "Se acabó la anécdota, pensando en la materia que estamos tratando ahora en el curso, la mejor opción sería utilizar otra herramienta más que estoy colocando en mi maleta de herramientas, las funciones, hablaremos en un futuro, estoy seguro de ello, de momento es tener la idea de crear un bloque con la palabra def al cual se le puede llamar y se le puede pasar parámetros, vuelve a aparecer parámetros."
   ]
  },
  {
   "cell_type": "code",
   "execution_count": null,
   "id": "f5121114-da57-461b-a608-2065fae0bf86",
   "metadata": {},
   "outputs": [],
   "source": [
    "Este primer script fue la versión beta que creamos, y el siguiente es la versión definitiva."
   ]
  },
  {
   "cell_type": "code",
   "execution_count": 78,
   "id": "9b781a6e-32ed-4b31-9f5c-ae458eb7bb0f",
   "metadata": {},
   "outputs": [],
   "source": [
    "def sensor_read_beta(t):\n",
    "    \"\"\"versión inicial de la función\"\"\"\n",
    "    count = 0\n",
    "    time_line = [ 0 for x in range(t)]\n",
    "    sensor_status = []\n",
    "    for x in time_line:\n",
    "        count += 1\n",
    "        #print(x)\n",
    "        sensor_status.append(x)\n",
    "        #print(sensor_status)\n",
    "        if count > 3 and count <= 6:\n",
    "            sensor_status.append(1)\n",
    "            continue\n",
    "    return sensor_status"
   ]
  },
  {
   "cell_type": "code",
   "execution_count": 79,
   "id": "4f9ccb40-a1d0-41df-b5db-1b855f9a0039",
   "metadata": {},
   "outputs": [],
   "source": [
    "def sensor_read(t,min,max):\n",
    "    \"\"\"función sensor_read, emulador actividad sensor\"\"\"\n",
    "    \"\"\"Se le pasan tres parámetros, t iteraciones a realizar\n",
    "    min a partir de que iteración produce error, y max hasta\n",
    "    que iteración reproduce el error\"\"\"\n",
    "    count = 0\n",
    "    time_line = [ 0 for x in range(t)]\n",
    "    sensor_status = []\n",
    "    for x in time_line:\n",
    "        count += 1\n",
    "        #print(count)\n",
    "        sensor_status.append(x)\n",
    "        #print(sensor_status)\n",
    "        if count > min and count <= max:\n",
    "            sensor_status.append(1)\n",
    "            continue\n",
    "    return sensor_status"
   ]
  },
  {
   "cell_type": "markdown",
   "id": "db3e0c32-9f9d-4c7d-af1d-14b518f70a73",
   "metadata": {},
   "source": [
    "Lo primero, este documento contiene errores, se han expuesto a propósito para mayor realidad del proceso que he seguido. Desde el más absoluto cero a establecer un sensor que nos devuelve un dígito en posiciones intercaladas, según le demos un rango mínimo y máximo para aparecer. Es peligroso reproducirlo, ya lo digo, declino toda responsabilidad, estoy en proceso de aprendizaje, pero con valores pequeños a mí me ha funcionado correctamente."
   ]
  },
  {
   "cell_type": "code",
   "execution_count": 87,
   "id": "12282332-ee91-42a2-9596-015c7a4e6970",
   "metadata": {},
   "outputs": [
    {
     "name": "stdout",
     "output_type": "stream",
     "text": [
      "[0, 0, 0, 0, 0, 0, 0, 0, 0, 0, 0, 0, 0, 0, 0, 0, 0, 0, 0, 0, 0, 0, 1, 0, 1, 0, 1, 0, 1, 0, 1, 0, 1, 0, 1, 0, 1, 0, 1, 0, 1, 0, 1, 0, 1, 0, 1, 0, 1, 0, 1, 0, 1, 0, 1, 0, 1, 0, 1, 0, 1, 0, 1, 0, 1, 0, 1, 0, 1, 0, 1, 0, 1, 0, 1, 0, 1, 0, 1, 0, 1, 0, 1, 0, 1, 0, 1, 0, 1, 0, 1, 0, 1, 0, 0, 0, 0, 0, 0, 0, 0, 0, 0, 0, 0, 0, 0, 0, 0, 0, 0, 0, 0, 0, 0, 0, 0, 0, 0, 0, 0, 0, 0, 0, 0, 0, 0, 0, 0, 0, 0, 0, 0, 0, 0, 0]\n"
     ]
    }
   ],
   "source": [
    "print(f'{sensor_read(100,21,57)}')"
   ]
  },
  {
   "cell_type": "markdown",
   "id": "2dfb830c-af6d-427c-ad63-48ce2adbda7d",
   "metadata": {},
   "source": [
    "Bueno, en resumen y si os parece nos centramos en este último script, ya que contiene todo lo mencionado hasta ahora y un preámbulo de lo que viene, tenemos una estructura diferente que la marca la función def, pasaremos por ellas, por supuesto, es como tener un robot de cocina en casa, todo lo que le pasas, te lo devuelve cocinado. \n",
    "\n",
    "Vale, seguimos, tocamos contadores, de hecho, el contador articula el dinamismo, cada valor mínimo o máximo que le pasamos al condicionador, if lo evalúa y devuelve un resultado, toma decisiones propias pero controladas por nosotros.\n",
    "\n",
    "Tenemos la función, la creación del contador y la explicación de su uso, llegamos al tema, lista por compresión de nuestra base de datos, donde están los elementos que iteraremos que creamos automáticamente a partir de lista por compresión, en ella estarán el resultado de realizar las expresiones que se deseen dentro de los corchetes, en este caso obtenemos una línea de tiempo que duraran el valor que le pasemos como parámetro t, este valor marca las iteraciones que realizara el bucle for incluyendo elementos como caracteres 0 a la lista especificada.\n",
    "\n",
    "Crearemos la lista que recogerá la consolidación de los datos con los que estamos trabajando y nuestro objetivo, que parezca una lista devuelta por un sensor en producción, la llamamos sensor_status.\n",
    "\n",
    "Pasamos al bucle, iteramos la línea de tiempo con la x variable iteradora en este caso, damos por hecho que todos los valores de x son 0 y que tenemos que incluir en la lista definitiva, o sea en la sensor_status, los valores de error según la frecuencia mínima y máxima.\n",
    "\n",
    "El condicional está colocado después de añadir un elemento nuevo a la lista, comprobará si está dentro del rango específico y si es así colocará un elemento con valor 1 también en la lista y después continuará con el bucle, estamos incrementando elementos y damos efecto de continuidad tal como se expresa. Y siempre añadiendo vida al final de la lista con la función append."
   ]
  },
  {
   "cell_type": "code",
   "execution_count": 6,
   "id": "e390a206-445a-49b9-8ad1-21b473014eed",
   "metadata": {},
   "outputs": [],
   "source": [
    "def sensor_read(t,min,max):\n",
    "    count = 0\n",
    "    time_line = [ 0 for x in range(t)]\n",
    "    sensor_status = []\n",
    "    for x in time_line:\n",
    "        count += 1\n",
    "        sensor_status.append(x)\n",
    "        if count > min and count <= max:\n",
    "            sensor_status.append(1)\n",
    "            continue\n",
    "    return sensor_status"
   ]
  }
 ],
 "metadata": {
  "kernelspec": {
   "display_name": "Python 3 (ipykernel)",
   "language": "python",
   "name": "python3"
  },
  "language_info": {
   "codemirror_mode": {
    "name": "ipython",
    "version": 3
   },
   "file_extension": ".py",
   "mimetype": "text/x-python",
   "name": "python",
   "nbconvert_exporter": "python",
   "pygments_lexer": "ipython3",
   "version": "3.11.5"
  },
  "widgets": {
   "application/vnd.jupyter.widget-state+json": {
    "state": {},
    "version_major": 2,
    "version_minor": 0
   }
  }
 },
 "nbformat": 4,
 "nbformat_minor": 5
}
